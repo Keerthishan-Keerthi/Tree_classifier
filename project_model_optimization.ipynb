{
 "cells": [
  {
   "cell_type": "code",
   "execution_count": 1,
   "id": "70b6b6a2-d80d-448b-bd92-f9c75c2933cb",
   "metadata": {},
   "outputs": [],
   "source": [
    "#loading datfarme\n",
    "import pandas as pd\n",
    "dataframe = pd.read_csv(\"datasheet_final.csv\")"
   ]
  },
  {
   "cell_type": "code",
   "execution_count": 2,
   "id": "81233eec-639d-4b96-9da2-10c6631b4e09",
   "metadata": {},
   "outputs": [],
   "source": [
    "#encoding textual shape descriptor column\n",
    "from sklearn.preprocessing import LabelEncoder\n",
    "# Create an instance of LabelEncoder\n",
    "label_encoder = LabelEncoder()\n",
    "\n",
    "# Fit and transform the 'Color' column\n",
    "shape_Enc = label_encoder.fit_transform(dataframe['shape descriptor'])\n",
    "\n",
    "dataframe['shape descriptor'] = shape_Enc"
   ]
  },
  {
   "cell_type": "code",
   "execution_count": 3,
   "id": "a6b8e50e-b9fd-4905-a766-7c7305dce67d",
   "metadata": {},
   "outputs": [],
   "source": [
    "#encoding textual hex color of flower column\n",
    "# Create an instance of LabelEncoder\n",
    "label_encoder = LabelEncoder()\n",
    "\n",
    "# Fit and transform the 'Color' column\n",
    "color_Enc = label_encoder.fit_transform(dataframe['hex color of flower'])\n",
    "\n",
    "dataframe['hex color of flower'] = color_Enc"
   ]
  },
  {
   "cell_type": "code",
   "execution_count": 4,
   "id": "01946a3f-a60c-40c4-ad3e-3dca41984d00",
   "metadata": {},
   "outputs": [
    {
     "data": {
      "text/html": [
       "<div>\n",
       "<style scoped>\n",
       "    .dataframe tbody tr th:only-of-type {\n",
       "        vertical-align: middle;\n",
       "    }\n",
       "\n",
       "    .dataframe tbody tr th {\n",
       "        vertical-align: top;\n",
       "    }\n",
       "\n",
       "    .dataframe thead th {\n",
       "        text-align: right;\n",
       "    }\n",
       "</style>\n",
       "<table border=\"1\" class=\"dataframe\">\n",
       "  <thead>\n",
       "    <tr style=\"text-align: right;\">\n",
       "      <th></th>\n",
       "      <th>slimness</th>\n",
       "      <th>leaf size</th>\n",
       "      <th>shape descriptor</th>\n",
       "      <th>hex color of flower</th>\n",
       "      <th>Name</th>\n",
       "    </tr>\n",
       "  </thead>\n",
       "  <tbody>\n",
       "    <tr>\n",
       "      <th>0</th>\n",
       "      <td>2.476190</td>\n",
       "      <td>29.120000</td>\n",
       "      <td>2</td>\n",
       "      <td>1</td>\n",
       "      <td>Welan</td>\n",
       "    </tr>\n",
       "    <tr>\n",
       "      <th>1</th>\n",
       "      <td>2.282609</td>\n",
       "      <td>32.200000</td>\n",
       "      <td>2</td>\n",
       "      <td>1</td>\n",
       "      <td>Welan</td>\n",
       "    </tr>\n",
       "    <tr>\n",
       "      <th>2</th>\n",
       "      <td>2.542857</td>\n",
       "      <td>20.766667</td>\n",
       "      <td>2</td>\n",
       "      <td>1</td>\n",
       "      <td>Welan</td>\n",
       "    </tr>\n",
       "    <tr>\n",
       "      <th>3</th>\n",
       "      <td>2.195122</td>\n",
       "      <td>24.600000</td>\n",
       "      <td>2</td>\n",
       "      <td>1</td>\n",
       "      <td>Welan</td>\n",
       "    </tr>\n",
       "    <tr>\n",
       "      <th>4</th>\n",
       "      <td>3.300000</td>\n",
       "      <td>19.800000</td>\n",
       "      <td>0</td>\n",
       "      <td>0</td>\n",
       "      <td>Bora</td>\n",
       "    </tr>\n",
       "    <tr>\n",
       "      <th>...</th>\n",
       "      <td>...</td>\n",
       "      <td>...</td>\n",
       "      <td>...</td>\n",
       "      <td>...</td>\n",
       "      <td>...</td>\n",
       "    </tr>\n",
       "    <tr>\n",
       "      <th>65</th>\n",
       "      <td>2.500000</td>\n",
       "      <td>15.000000</td>\n",
       "      <td>2</td>\n",
       "      <td>1</td>\n",
       "      <td>Welan</td>\n",
       "    </tr>\n",
       "    <tr>\n",
       "      <th>66</th>\n",
       "      <td>2.155556</td>\n",
       "      <td>29.100000</td>\n",
       "      <td>2</td>\n",
       "      <td>1</td>\n",
       "      <td>Welan</td>\n",
       "    </tr>\n",
       "    <tr>\n",
       "      <th>67</th>\n",
       "      <td>2.022222</td>\n",
       "      <td>27.300000</td>\n",
       "      <td>2</td>\n",
       "      <td>1</td>\n",
       "      <td>Welan</td>\n",
       "    </tr>\n",
       "    <tr>\n",
       "      <th>68</th>\n",
       "      <td>2.615385</td>\n",
       "      <td>26.520000</td>\n",
       "      <td>2</td>\n",
       "      <td>1</td>\n",
       "      <td>Welan</td>\n",
       "    </tr>\n",
       "    <tr>\n",
       "      <th>69</th>\n",
       "      <td>2.333333</td>\n",
       "      <td>20.160000</td>\n",
       "      <td>2</td>\n",
       "      <td>1</td>\n",
       "      <td>Welan</td>\n",
       "    </tr>\n",
       "  </tbody>\n",
       "</table>\n",
       "<p>70 rows × 5 columns</p>\n",
       "</div>"
      ],
      "text/plain": [
       "    slimness  leaf size  shape descriptor  hex color of flower   Name\n",
       "0   2.476190  29.120000                 2                    1  Welan\n",
       "1   2.282609  32.200000                 2                    1  Welan\n",
       "2   2.542857  20.766667                 2                    1  Welan\n",
       "3   2.195122  24.600000                 2                    1  Welan\n",
       "4   3.300000  19.800000                 0                    0   Bora\n",
       "..       ...        ...               ...                  ...    ...\n",
       "65  2.500000  15.000000                 2                    1  Welan\n",
       "66  2.155556  29.100000                 2                    1  Welan\n",
       "67  2.022222  27.300000                 2                    1  Welan\n",
       "68  2.615385  26.520000                 2                    1  Welan\n",
       "69  2.333333  20.160000                 2                    1  Welan\n",
       "\n",
       "[70 rows x 5 columns]"
      ]
     },
     "execution_count": 4,
     "metadata": {},
     "output_type": "execute_result"
    }
   ],
   "source": [
    "#dataframe after encoding\n",
    "dataframe"
   ]
  },
  {
   "cell_type": "code",
   "execution_count": 5,
   "id": "995ec34b-bb91-4b8c-a79a-262e121fae7d",
   "metadata": {},
   "outputs": [
    {
     "data": {
      "text/plain": [
       "(70, 5)"
      ]
     },
     "execution_count": 5,
     "metadata": {},
     "output_type": "execute_result"
    }
   ],
   "source": [
    "dataset = dataframe.values\n",
    "dataset.shape"
   ]
  },
  {
   "cell_type": "code",
   "execution_count": 6,
   "id": "e6814ca4-69d4-4015-ba1f-59c38da90248",
   "metadata": {},
   "outputs": [],
   "source": [
    "from sklearn.preprocessing import OneHotEncoder\n",
    "#for x\n",
    "X = dataset[:,0:4].astype(float)\n",
    "#for y\n",
    "Y = dataset[:,4]\n",
    "dataframe['Name'] = dataframe['Name'].astype('category')  \n",
    "# Assigning numerical values and storing it in another columns \n",
    "dataframe['Gen_new'] = dataframe['Name'].cat.codes  \n",
    "# Create an instance of One-hot-encoder \n",
    "enc = OneHotEncoder() \n",
    "# Passing encoded columns \n",
    "dummy_y = pd.DataFrame(enc.fit_transform(dataframe[['Gen_new']]).toarray()) "
   ]
  },
  {
   "cell_type": "code",
   "execution_count": null,
   "id": "46cb5de5-12d8-4c99-b5f3-cecdd720faab",
   "metadata": {},
   "outputs": [],
   "source": []
  },
  {
   "cell_type": "code",
   "execution_count": 7,
   "id": "92f99c83-4006-41b8-b345-33be11c741ae",
   "metadata": {},
   "outputs": [],
   "source": [
    "from sklearn.model_selection import train_test_split\n",
    "# Splitting data into training and testing sets\n",
    "X_train, X_test, y_train, y_test = train_test_split(X, dummy_y, test_size=0.2, random_state=3)"
   ]
  },
  {
   "cell_type": "code",
   "execution_count": 8,
   "id": "f235261c-8616-486f-b6d0-a0a9b7d859d9",
   "metadata": {},
   "outputs": [],
   "source": [
    "from keras.models import Model   \n",
    "from keras.layers import *\n",
    "\n",
    "#Defining the model\n",
    "inputs = Input(shape=(4,)) # input tensor\n",
    "hidden1 = Dense(units=8, activation='relu')(inputs) # layer 1\n",
    "hidden2 = Dense(units=8, activation='relu')(hidden1)  # layer 2\n",
    "hidden3 = Dense(units=8, activation='relu')(hidden2)  # layer 3\n",
    "outputs = Dense(units=3, activation='softmax')(hidden2)  # output layer\n",
    "\n",
    "# Initializing and training the classifier\n",
    "classifier = Model(inputs, outputs)\n"
   ]
  },
  {
   "cell_type": "code",
   "execution_count": 9,
   "id": "f2b6782c-1c3d-4dfe-889a-5f0b8427b271",
   "metadata": {},
   "outputs": [],
   "source": [
    "\n",
    "from keras import optimizers\n",
    "classifier.compile(optimizer = 'SGD', loss='poisson', metrics=['accuracy'])"
   ]
  },
  {
   "cell_type": "code",
   "execution_count": 10,
   "id": "8f9965d7-e617-4814-9068-32deb3e5177d",
   "metadata": {},
   "outputs": [],
   "source": [
    "x_val = X_train[:14]\n",
    "partial_x_train = X_train[14:]\n",
    "y_val = y_train[:14]\n",
    "partial_y_train = y_train[14:]"
   ]
  },
  {
   "cell_type": "code",
   "execution_count": 11,
   "id": "ba50bff7-18e1-4f87-930f-79be878d1049",
   "metadata": {},
   "outputs": [
    {
     "name": "stdout",
     "output_type": "stream",
     "text": [
      "(14, 4)\n",
      "(42, 4)\n",
      "(14, 3)\n",
      "(42, 3)\n"
     ]
    }
   ],
   "source": [
    "print(x_val.shape)\n",
    "print(partial_x_train.shape)\n",
    "print(y_val.shape)\n",
    "print(partial_y_train.shape)"
   ]
  },
  {
   "cell_type": "code",
   "execution_count": 12,
   "id": "4648adb0-044a-49a2-adee-a8d0f5b48913",
   "metadata": {},
   "outputs": [
    {
     "data": {
      "text/plain": [
       "(56, 4)"
      ]
     },
     "execution_count": 12,
     "metadata": {},
     "output_type": "execute_result"
    }
   ],
   "source": [
    "X_train.shape"
   ]
  },
  {
   "cell_type": "code",
   "execution_count": 13,
   "id": "c7c51176-9655-4dd3-a930-145249864055",
   "metadata": {},
   "outputs": [
    {
     "data": {
      "text/plain": [
       "(56, 3)"
      ]
     },
     "execution_count": 13,
     "metadata": {},
     "output_type": "execute_result"
    }
   ],
   "source": [
    "y_train.shape"
   ]
  },
  {
   "cell_type": "code",
   "execution_count": 14,
   "id": "e5cf84ce-8af5-4140-a800-72ab08ba422f",
   "metadata": {},
   "outputs": [
    {
     "name": "stdout",
     "output_type": "stream",
     "text": [
      "Epoch 1/20\n",
      "6/6 [==============================] - 1s 43ms/step - loss: 1.7154 - accuracy: 0.2857 - val_loss: 1.0013 - val_accuracy: 0.1429\n",
      "Epoch 2/20\n",
      "6/6 [==============================] - 0s 6ms/step - loss: 0.9461 - accuracy: 0.0476 - val_loss: 0.8042 - val_accuracy: 0.0714\n",
      "Epoch 3/20\n",
      "6/6 [==============================] - 0s 6ms/step - loss: 0.7806 - accuracy: 0.1667 - val_loss: 0.7386 - val_accuracy: 0.2143\n",
      "Epoch 4/20\n",
      "6/6 [==============================] - 0s 7ms/step - loss: 0.7504 - accuracy: 0.0952 - val_loss: 0.7314 - val_accuracy: 0.2143\n",
      "Epoch 5/20\n",
      "6/6 [==============================] - 0s 7ms/step - loss: 0.7306 - accuracy: 0.3095 - val_loss: 0.7318 - val_accuracy: 0.3571\n",
      "Epoch 6/20\n",
      "6/6 [==============================] - 0s 5ms/step - loss: 0.7231 - accuracy: 0.3333 - val_loss: 0.7394 - val_accuracy: 0.3571\n",
      "Epoch 7/20\n",
      "6/6 [==============================] - 0s 6ms/step - loss: 0.7187 - accuracy: 0.3810 - val_loss: 0.7296 - val_accuracy: 0.3571\n",
      "Epoch 8/20\n",
      "6/6 [==============================] - 0s 5ms/step - loss: 0.7257 - accuracy: 0.3571 - val_loss: 0.7306 - val_accuracy: 0.3571\n",
      "Epoch 9/20\n",
      "6/6 [==============================] - 0s 6ms/step - loss: 0.7213 - accuracy: 0.2857 - val_loss: 0.7252 - val_accuracy: 0.3571\n",
      "Epoch 10/20\n",
      "6/6 [==============================] - 0s 5ms/step - loss: 0.7163 - accuracy: 0.4524 - val_loss: 0.7224 - val_accuracy: 0.3571\n",
      "Epoch 11/20\n",
      "6/6 [==============================] - 0s 6ms/step - loss: 0.7203 - accuracy: 0.4048 - val_loss: 0.7214 - val_accuracy: 0.3571\n",
      "Epoch 12/20\n",
      "6/6 [==============================] - 0s 6ms/step - loss: 0.7116 - accuracy: 0.4048 - val_loss: 0.7260 - val_accuracy: 0.3571\n",
      "Epoch 13/20\n",
      "6/6 [==============================] - 0s 6ms/step - loss: 0.7121 - accuracy: 0.4048 - val_loss: 0.7157 - val_accuracy: 0.3571\n",
      "Epoch 14/20\n",
      "6/6 [==============================] - 0s 8ms/step - loss: 0.7166 - accuracy: 0.4286 - val_loss: 0.7201 - val_accuracy: 0.3571\n",
      "Epoch 15/20\n",
      "6/6 [==============================] - 0s 7ms/step - loss: 0.7111 - accuracy: 0.4524 - val_loss: 0.7109 - val_accuracy: 0.3571\n",
      "Epoch 16/20\n",
      "6/6 [==============================] - 0s 6ms/step - loss: 0.7054 - accuracy: 0.4524 - val_loss: 0.7145 - val_accuracy: 0.3571\n",
      "Epoch 17/20\n",
      "6/6 [==============================] - 0s 7ms/step - loss: 0.7055 - accuracy: 0.3571 - val_loss: 0.7091 - val_accuracy: 0.4286\n",
      "Epoch 18/20\n",
      "6/6 [==============================] - 0s 5ms/step - loss: 0.7074 - accuracy: 0.3333 - val_loss: 0.7161 - val_accuracy: 0.3571\n",
      "Epoch 19/20\n",
      "6/6 [==============================] - 0s 7ms/step - loss: 0.7073 - accuracy: 0.4524 - val_loss: 0.7150 - val_accuracy: 0.3571\n",
      "Epoch 20/20\n",
      "6/6 [==============================] - 0s 5ms/step - loss: 0.7055 - accuracy: 0.4048 - val_loss: 0.7060 - val_accuracy: 0.3571\n"
     ]
    }
   ],
   "source": [
    "history = classifier.fit(partial_x_train,\n",
    "partial_y_train,\n",
    "epochs=20,\n",
    "batch_size=7,\n",
    "validation_data=(x_val, y_val))"
   ]
  },
  {
   "cell_type": "code",
   "execution_count": 15,
   "id": "53b0e06e-101b-41e2-b87d-e96263f53c6f",
   "metadata": {},
   "outputs": [
    {
     "data": {
      "image/png": "[encoded data removed]",
      "text/plain": [
       "<Figure size 640x480 with 1 Axes>"
      ]
     },
     "metadata": {},
     "output_type": "display_data"
    }
   ],
   "source": [
    "import matplotlib.pyplot as plt\n",
    "loss = history.history['loss']\n",
    "val_loss = history.history['val_loss']\n",
    "epochs = range(1, len(loss) + 1)\n",
    "plt.plot(epochs, loss, 'r', label='Training loss')\n",
    "plt.plot(epochs, val_loss, 'b', label='Validation loss')\n",
    "plt.title('Training and validation loss')\n",
    "plt.xlabel('Epochs')\n",
    "plt.ylabel('Loss')\n",
    "plt.legend()\n",
    "plt.show()"
   ]
  },
  {
   "cell_type": "code",
   "execution_count": 17,
   "id": "746e5c68-9405-44b6-9a48-ff70cd42917e",
   "metadata": {},
   "outputs": [],
   "source": [
    "#early stopping\n",
    "from keras.models import Model   \n",
    "from keras.layers import *\n",
    "\n",
    "#Defining the model\n",
    "inputs = Input(shape=(4,)) # input tensor\n",
    "hidden1 = Dense(units=8, activation='relu')(inputs) # layer 1\n",
    "hidden2 = Dense(units=8, activation='relu')(hidden1)  # layer 2\n",
    "hidden3 = Dense(units=8, activation='relu')(hidden2)  # layer 3\n",
    "outputs = Dense(units=3, activation='softmax')(hidden2)  # output layer\n",
    "\n",
    "# Initializing and training the classifier\n",
    "classifier = Model(inputs, outputs)"
   ]
  },
  {
   "cell_type": "code",
   "execution_count": 18,
   "id": "1c7a3e07-c38c-4dcd-9141-d18d2490aaf7",
   "metadata": {},
   "outputs": [],
   "source": [
    "from keras import optimizers\n",
    "classifier.compile(optimizer = 'SGD', loss='poisson', metrics=['accuracy'])"
   ]
  },
  {
   "cell_type": "code",
   "execution_count": 20,
   "id": "ef0cd4d0-8b6b-43dd-9f24-5e17c4a075c5",
   "metadata": {},
   "outputs": [
    {
     "name": "stdout",
     "output_type": "stream",
     "text": [
      "Epoch 1/7\n",
      "6/6 [==============================] - 1s 40ms/step - loss: 0.8481 - accuracy: 0.1190 - val_loss: 0.7362 - val_accuracy: 0.3571\n",
      "Epoch 2/7\n",
      "6/6 [==============================] - 0s 6ms/step - loss: 0.7222 - accuracy: 0.2143 - val_loss: 0.6999 - val_accuracy: 0.2143\n",
      "Epoch 3/7\n",
      "6/6 [==============================] - 0s 6ms/step - loss: 0.6845 - accuracy: 0.4762 - val_loss: 0.6911 - val_accuracy: 0.5714\n",
      "Epoch 4/7\n",
      "6/6 [==============================] - 0s 6ms/step - loss: 0.6703 - accuracy: 0.5952 - val_loss: 0.6831 - val_accuracy: 0.6429\n",
      "Epoch 5/7\n",
      "6/6 [==============================] - 0s 7ms/step - loss: 0.6627 - accuracy: 0.6429 - val_loss: 0.6666 - val_accuracy: 0.5714\n",
      "Epoch 6/7\n",
      "6/6 [==============================] - 0s 6ms/step - loss: 0.6424 - accuracy: 0.6190 - val_loss: 0.6533 - val_accuracy: 0.6429\n",
      "Epoch 7/7\n",
      "6/6 [==============================] - 0s 7ms/step - loss: 0.6332 - accuracy: 0.6667 - val_loss: 0.6442 - val_accuracy: 0.6429\n"
     ]
    },
    {
     "data": {
      "text/plain": [
       "<keras.callbacks.History at 0x26651fd3a60>"
      ]
     },
     "execution_count": 20,
     "metadata": {},
     "output_type": "execute_result"
    }
   ],
   "source": [
    "#early stopping at 7th epoch\n",
    "classifier.fit(partial_x_train,\n",
    "partial_y_train,\n",
    "epochs=7,\n",
    "batch_size=7,\n",
    "validation_data=(x_val, y_val))"
   ]
  },
  {
   "cell_type": "code",
   "execution_count": 26,
   "id": "8ba83557-1ca0-4d70-97ef-bd54faf285c7",
   "metadata": {},
   "outputs": [
    {
     "name": "stdout",
     "output_type": "stream",
     "text": [
      "3/3 [==============================] - 0s 6ms/step - loss: 0.6275 - accuracy: 0.7143\n"
     ]
    }
   ],
   "source": [
    "results = classifier.evaluate(X, dummy_y)"
   ]
  },
  {
   "cell_type": "code",
   "execution_count": 27,
   "id": "584f07cb-866f-40c7-9e71-6e3ce270c928",
   "metadata": {},
   "outputs": [
    {
     "data": {
      "text/plain": [
       "[0.6275104880332947, 0.7142857313156128]"
      ]
     },
     "execution_count": 27,
     "metadata": {},
     "output_type": "execute_result"
    }
   ],
   "source": [
    "results"
   ]
  },
  {
   "cell_type": "code",
   "execution_count": 34,
   "id": "4f968b07-8606-443e-ba76-806a5b5f6aff",
   "metadata": {},
   "outputs": [],
   "source": [
    "from keras.models import load_model\n",
    "\n",
    "# save model\n",
    "classifier.save_weights('best_tree_classifier.h5')"
   ]
  }
 ],
 "metadata": {
  "kernelspec": {
   "display_name": "Python 3 (ipykernel)",
   "language": "python",
   "name": "python3"
  },
  "language_info": {
   "codemirror_mode": {
    "name": "ipython",
    "version": 3
   },
   "file_extension": ".py",
   "mimetype": "text/x-python",
   "name": "python",
   "nbconvert_exporter": "python",
   "pygments_lexer": "ipython3",
   "version": "3.9.18"
  }
 },
 "nbformat": 4,
 "nbformat_minor": 5
}
