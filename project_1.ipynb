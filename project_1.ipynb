{
 "cells": [
  {
   "cell_type": "code",
   "execution_count": 1,
   "id": "a032d18b-56f5-4a88-bf1d-943cd08d9fc2",
   "metadata": {},
   "outputs": [],
   "source": [
    "#loading datfarme\n",
    "import pandas as pd\n",
    "dataframe = pd.read_csv(\"datasheet_final.csv\")"
   ]
  },
  {
   "cell_type": "code",
   "execution_count": 2,
   "id": "0a5a9b65-759c-4390-9f40-745c6a321302",
   "metadata": {},
   "outputs": [
    {
     "data": {
      "text/html": [
       "<div>\n",
       "<style scoped>\n",
       "    .dataframe tbody tr th:only-of-type {\n",
       "        vertical-align: middle;\n",
       "    }\n",
       "\n",
       "    .dataframe tbody tr th {\n",
       "        vertical-align: top;\n",
       "    }\n",
       "\n",
       "    .dataframe thead th {\n",
       "        text-align: right;\n",
       "    }\n",
       "</style>\n",
       "<table border=\"1\" class=\"dataframe\">\n",
       "  <thead>\n",
       "    <tr style=\"text-align: right;\">\n",
       "      <th></th>\n",
       "      <th>slimness</th>\n",
       "      <th>leaf size</th>\n",
       "      <th>shape descriptor</th>\n",
       "      <th>hex color of flower</th>\n",
       "      <th>Name</th>\n",
       "    </tr>\n",
       "  </thead>\n",
       "  <tbody>\n",
       "    <tr>\n",
       "      <th>0</th>\n",
       "      <td>2.476190</td>\n",
       "      <td>29.120000</td>\n",
       "      <td>Ovate</td>\n",
       "      <td>#F2F0DF</td>\n",
       "      <td>Welan</td>\n",
       "    </tr>\n",
       "    <tr>\n",
       "      <th>1</th>\n",
       "      <td>2.282609</td>\n",
       "      <td>32.200000</td>\n",
       "      <td>Ovate</td>\n",
       "      <td>#F2F0DF</td>\n",
       "      <td>Welan</td>\n",
       "    </tr>\n",
       "    <tr>\n",
       "      <th>2</th>\n",
       "      <td>2.542857</td>\n",
       "      <td>20.766667</td>\n",
       "      <td>Ovate</td>\n",
       "      <td>#F2F0DF</td>\n",
       "      <td>Welan</td>\n",
       "    </tr>\n",
       "    <tr>\n",
       "      <th>3</th>\n",
       "      <td>2.195122</td>\n",
       "      <td>24.600000</td>\n",
       "      <td>Ovate</td>\n",
       "      <td>#F2F0DF</td>\n",
       "      <td>Welan</td>\n",
       "    </tr>\n",
       "    <tr>\n",
       "      <th>4</th>\n",
       "      <td>3.300000</td>\n",
       "      <td>19.800000</td>\n",
       "      <td>Lanceolate</td>\n",
       "      <td>#C4C73C</td>\n",
       "      <td>Bora</td>\n",
       "    </tr>\n",
       "    <tr>\n",
       "      <th>...</th>\n",
       "      <td>...</td>\n",
       "      <td>...</td>\n",
       "      <td>...</td>\n",
       "      <td>...</td>\n",
       "      <td>...</td>\n",
       "    </tr>\n",
       "    <tr>\n",
       "      <th>65</th>\n",
       "      <td>2.500000</td>\n",
       "      <td>15.000000</td>\n",
       "      <td>Ovate</td>\n",
       "      <td>#F2F0DF</td>\n",
       "      <td>Welan</td>\n",
       "    </tr>\n",
       "    <tr>\n",
       "      <th>66</th>\n",
       "      <td>2.155556</td>\n",
       "      <td>29.100000</td>\n",
       "      <td>Ovate</td>\n",
       "      <td>#F2F0DF</td>\n",
       "      <td>Welan</td>\n",
       "    </tr>\n",
       "    <tr>\n",
       "      <th>67</th>\n",
       "      <td>2.022222</td>\n",
       "      <td>27.300000</td>\n",
       "      <td>Ovate</td>\n",
       "      <td>#F2F0DF</td>\n",
       "      <td>Welan</td>\n",
       "    </tr>\n",
       "    <tr>\n",
       "      <th>68</th>\n",
       "      <td>2.615385</td>\n",
       "      <td>26.520000</td>\n",
       "      <td>Ovate</td>\n",
       "      <td>#F2F0DF</td>\n",
       "      <td>Welan</td>\n",
       "    </tr>\n",
       "    <tr>\n",
       "      <th>69</th>\n",
       "      <td>2.333333</td>\n",
       "      <td>20.160000</td>\n",
       "      <td>Ovate</td>\n",
       "      <td>#F2F0DF</td>\n",
       "      <td>Welan</td>\n",
       "    </tr>\n",
       "  </tbody>\n",
       "</table>\n",
       "<p>70 rows × 5 columns</p>\n",
       "</div>"
      ],
      "text/plain": [
       "    slimness  leaf size shape descriptor hex color of flower   Name\n",
       "0   2.476190  29.120000            Ovate             #F2F0DF  Welan\n",
       "1   2.282609  32.200000            Ovate             #F2F0DF  Welan\n",
       "2   2.542857  20.766667            Ovate             #F2F0DF  Welan\n",
       "3   2.195122  24.600000            Ovate             #F2F0DF  Welan\n",
       "4   3.300000  19.800000       Lanceolate             #C4C73C   Bora\n",
       "..       ...        ...              ...                 ...    ...\n",
       "65  2.500000  15.000000            Ovate             #F2F0DF  Welan\n",
       "66  2.155556  29.100000            Ovate             #F2F0DF  Welan\n",
       "67  2.022222  27.300000            Ovate             #F2F0DF  Welan\n",
       "68  2.615385  26.520000            Ovate             #F2F0DF  Welan\n",
       "69  2.333333  20.160000            Ovate             #F2F0DF  Welan\n",
       "\n",
       "[70 rows x 5 columns]"
      ]
     },
     "execution_count": 2,
     "metadata": {},
     "output_type": "execute_result"
    }
   ],
   "source": [
    "dataframe"
   ]
  },
  {
   "cell_type": "code",
   "execution_count": 4,
   "id": "0654e427-8c00-4001-95c7-039d5ff7636d",
   "metadata": {},
   "outputs": [],
   "source": [
    "#encoding textual shape descriptor column\n",
    "from sklearn.preprocessing import LabelEncoder\n",
    "# Create an instance of LabelEncoder\n",
    "label_encoder = LabelEncoder()\n",
    "\n",
    "# Fit and transform the 'Color' column\n",
    "shape_Enc = label_encoder.fit_transform(dataframe['shape descriptor'])\n",
    "\n",
    "dataframe['shape descriptor'] = shape_Enc"
   ]
  },
  {
   "cell_type": "code",
   "execution_count": 5,
   "id": "0619ba86-3efe-4f5b-b72e-6098dd4b16f4",
   "metadata": {},
   "outputs": [],
   "source": [
    "#encoding textual hex color of flower column\n",
    "# Create an instance of LabelEncoder\n",
    "label_encoder = LabelEncoder()\n",
    "\n",
    "# Fit and transform the 'Color' column\n",
    "color_Enc = label_encoder.fit_transform(dataframe['hex color of flower'])\n",
    "\n",
    "dataframe['hex color of flower'] = color_Enc"
   ]
  },
  {
   "cell_type": "code",
   "execution_count": 6,
   "id": "787c1fec-409a-4a06-9bfd-b86f4580dff7",
   "metadata": {},
   "outputs": [
    {
     "data": {
      "text/html": [
       "<div>\n",
       "<style scoped>\n",
       "    .dataframe tbody tr th:only-of-type {\n",
       "        vertical-align: middle;\n",
       "    }\n",
       "\n",
       "    .dataframe tbody tr th {\n",
       "        vertical-align: top;\n",
       "    }\n",
       "\n",
       "    .dataframe thead th {\n",
       "        text-align: right;\n",
       "    }\n",
       "</style>\n",
       "<table border=\"1\" class=\"dataframe\">\n",
       "  <thead>\n",
       "    <tr style=\"text-align: right;\">\n",
       "      <th></th>\n",
       "      <th>slimness</th>\n",
       "      <th>leaf size</th>\n",
       "      <th>shape descriptor</th>\n",
       "      <th>hex color of flower</th>\n",
       "      <th>Name</th>\n",
       "    </tr>\n",
       "  </thead>\n",
       "  <tbody>\n",
       "    <tr>\n",
       "      <th>0</th>\n",
       "      <td>2.476190</td>\n",
       "      <td>29.120000</td>\n",
       "      <td>2</td>\n",
       "      <td>1</td>\n",
       "      <td>Welan</td>\n",
       "    </tr>\n",
       "    <tr>\n",
       "      <th>1</th>\n",
       "      <td>2.282609</td>\n",
       "      <td>32.200000</td>\n",
       "      <td>2</td>\n",
       "      <td>1</td>\n",
       "      <td>Welan</td>\n",
       "    </tr>\n",
       "    <tr>\n",
       "      <th>2</th>\n",
       "      <td>2.542857</td>\n",
       "      <td>20.766667</td>\n",
       "      <td>2</td>\n",
       "      <td>1</td>\n",
       "      <td>Welan</td>\n",
       "    </tr>\n",
       "    <tr>\n",
       "      <th>3</th>\n",
       "      <td>2.195122</td>\n",
       "      <td>24.600000</td>\n",
       "      <td>2</td>\n",
       "      <td>1</td>\n",
       "      <td>Welan</td>\n",
       "    </tr>\n",
       "    <tr>\n",
       "      <th>4</th>\n",
       "      <td>3.300000</td>\n",
       "      <td>19.800000</td>\n",
       "      <td>0</td>\n",
       "      <td>0</td>\n",
       "      <td>Bora</td>\n",
       "    </tr>\n",
       "    <tr>\n",
       "      <th>...</th>\n",
       "      <td>...</td>\n",
       "      <td>...</td>\n",
       "      <td>...</td>\n",
       "      <td>...</td>\n",
       "      <td>...</td>\n",
       "    </tr>\n",
       "    <tr>\n",
       "      <th>65</th>\n",
       "      <td>2.500000</td>\n",
       "      <td>15.000000</td>\n",
       "      <td>2</td>\n",
       "      <td>1</td>\n",
       "      <td>Welan</td>\n",
       "    </tr>\n",
       "    <tr>\n",
       "      <th>66</th>\n",
       "      <td>2.155556</td>\n",
       "      <td>29.100000</td>\n",
       "      <td>2</td>\n",
       "      <td>1</td>\n",
       "      <td>Welan</td>\n",
       "    </tr>\n",
       "    <tr>\n",
       "      <th>67</th>\n",
       "      <td>2.022222</td>\n",
       "      <td>27.300000</td>\n",
       "      <td>2</td>\n",
       "      <td>1</td>\n",
       "      <td>Welan</td>\n",
       "    </tr>\n",
       "    <tr>\n",
       "      <th>68</th>\n",
       "      <td>2.615385</td>\n",
       "      <td>26.520000</td>\n",
       "      <td>2</td>\n",
       "      <td>1</td>\n",
       "      <td>Welan</td>\n",
       "    </tr>\n",
       "    <tr>\n",
       "      <th>69</th>\n",
       "      <td>2.333333</td>\n",
       "      <td>20.160000</td>\n",
       "      <td>2</td>\n",
       "      <td>1</td>\n",
       "      <td>Welan</td>\n",
       "    </tr>\n",
       "  </tbody>\n",
       "</table>\n",
       "<p>70 rows × 5 columns</p>\n",
       "</div>"
      ],
      "text/plain": [
       "    slimness  leaf size  shape descriptor  hex color of flower   Name\n",
       "0   2.476190  29.120000                 2                    1  Welan\n",
       "1   2.282609  32.200000                 2                    1  Welan\n",
       "2   2.542857  20.766667                 2                    1  Welan\n",
       "3   2.195122  24.600000                 2                    1  Welan\n",
       "4   3.300000  19.800000                 0                    0   Bora\n",
       "..       ...        ...               ...                  ...    ...\n",
       "65  2.500000  15.000000                 2                    1  Welan\n",
       "66  2.155556  29.100000                 2                    1  Welan\n",
       "67  2.022222  27.300000                 2                    1  Welan\n",
       "68  2.615385  26.520000                 2                    1  Welan\n",
       "69  2.333333  20.160000                 2                    1  Welan\n",
       "\n",
       "[70 rows x 5 columns]"
      ]
     },
     "execution_count": 6,
     "metadata": {},
     "output_type": "execute_result"
    }
   ],
   "source": [
    "#dataframe after encoding\n",
    "dataframe"
   ]
  },
  {
   "cell_type": "code",
   "execution_count": 6,
   "id": "5672281d-0d7d-4cfc-899f-eed308a0aca0",
   "metadata": {},
   "outputs": [
    {
     "data": {
      "text/plain": [
       "(70, 5)"
      ]
     },
     "execution_count": 6,
     "metadata": {},
     "output_type": "execute_result"
    }
   ],
   "source": [
    "dataset = dataframe.values\n",
    "dataset.shape"
   ]
  },
  {
   "cell_type": "code",
   "execution_count": 12,
   "id": "29a85ce1-f869-46fc-b9fd-683deda8d4df",
   "metadata": {},
   "outputs": [
    {
     "data": {
      "text/plain": [
       "array([[2.476190476, 29.12, 2, 1, 'Welan'],\n",
       "       [2.282608696, 32.2, 2, 1, 'Welan'],\n",
       "       [2.542857143, 20.76666667, 2, 1, 'Welan'],\n",
       "       [2.195121951, 24.6, 2, 1, 'Welan'],\n",
       "       [3.3, 19.8, 0, 0, 'Bora'],\n",
       "       [3.769230769, 16.98666667, 0, 0, 'Bora'],\n",
       "       [3.458333333, 13.28, 1, 2, 'Kapok'],\n",
       "       [3.269230769, 14.73333333, 1, 2, 'Kapok'],\n",
       "       [3.0, 16.82, 1, 2, 'Kapok'],\n",
       "       [2.725, 29.06666667, 2, 1, 'Welan'],\n",
       "       [2.820512821, 28.6, 2, 1, 'Welan'],\n",
       "       [2.894736842, 27.86666667, 2, 1, 'Welan'],\n",
       "       [2.194444444, 18.96, 2, 1, 'Welan'],\n",
       "       [4.227272727, 13.64, 1, 2, 'Kapok'],\n",
       "       [4.6, 12.26666667, 1, 2, 'Kapok'],\n",
       "       [4.24, 17.66666667, 1, 2, 'Kapok'],\n",
       "       [4.375, 16.8, 1, 2, 'Kapok'],\n",
       "       [4.52173913, 15.94666667, 1, 2, 'Kapok'],\n",
       "       [2.454545455, 17.82, 2, 1, 'Welan'],\n",
       "       [2.857142857, 23.33333333, 2, 1, 'Welan'],\n",
       "       [3.382352941, 26.06666667, 0, 0, 'Bora'],\n",
       "       [3.352941176, 25.84, 0, 0, 'Bora'],\n",
       "       [3.424242424, 24.86, 0, 0, 'Bora'],\n",
       "       [3.222222222, 27.84, 0, 0, 'Bora'],\n",
       "       [3.352941176, 25.84, 0, 0, 'Bora'],\n",
       "       [3.411764706, 26.29333333, 0, 0, 'Bora'],\n",
       "       [3.5625, 24.32, 0, 0, 'Bora'],\n",
       "       [3.53125, 24.10666667, 0, 0, 'Bora'],\n",
       "       [3.7, 22.2, 0, 0, 'Bora'],\n",
       "       [3.846153846, 17.33333333, 0, 0, 'Bora'],\n",
       "       [3.740740741, 18.18, 0, 0, 'Bora'],\n",
       "       [3.225806452, 20.66666667, 0, 0, 'Bora'],\n",
       "       [3.0, 23.12, 0, 0, 'Bora'],\n",
       "       [3.966666667, 23.8, 0, 0, 'Bora'],\n",
       "       [3.6875, 25.17333333, 0, 0, 'Bora'],\n",
       "       [3.866666667, 23.2, 0, 0, 'Bora'],\n",
       "       [3.6, 15.0, 0, 0, 'Bora'],\n",
       "       [4.083333333, 15.68, 0, 0, 'Bora'],\n",
       "       [2.5, 15.0, 2, 1, 'Welan'],\n",
       "       [2.3125, 15.78666667, 2, 1, 'Welan'],\n",
       "       [2.55, 27.2, 2, 1, 'Welan'],\n",
       "       [2.222222222, 30.0, 2, 1, 'Welan'],\n",
       "       [2.682926829, 30.06666667, 2, 1, 'Welan'],\n",
       "       [3.833333333, 23.0, 1, 2, 'Kapok'],\n",
       "       [3.931034483, 22.04, 1, 2, 'Kapok'],\n",
       "       [4.32, 18.0, 1, 2, 'Kapok'],\n",
       "       [4.416666667, 16.96, 1, 2, 'Kapok'],\n",
       "       [3.925925926, 19.08, 1, 2, 'Kapok'],\n",
       "       [4.2, 17.5, 1, 2, 'Kapok'],\n",
       "       [3.619047619, 10.64, 1, 2, 'Kapok'],\n",
       "       [3.347826087, 11.80666667, 1, 2, 'Kapok'],\n",
       "       [4.35, 11.6, 1, 2, 'Kapok'],\n",
       "       [4.095238095, 12.04, 1, 2, 'Kapok'],\n",
       "       [3.678571429, 19.22666667, 1, 2, 'Kapok'],\n",
       "       [4.434782609, 15.64, 1, 2, 'Kapok'],\n",
       "       [3.696969697, 26.84, 1, 2, 'Kapok'],\n",
       "       [3.903225806, 25.00666667, 1, 2, 'Kapok'],\n",
       "       [3.970588235, 30.6, 1, 2, 'Kapok'],\n",
       "       [4.03030303, 29.26, 1, 2, 'Kapok'],\n",
       "       [3.794117647, 29.24, 1, 2, 'Kapok'],\n",
       "       [3.878787879, 28.16, 1, 2, 'Kapok'],\n",
       "       [3.666666667, 22.0, 1, 2, 'Kapok'],\n",
       "       [3.75862069, 21.07333333, 1, 2, 'Kapok'],\n",
       "       [5.25, 14.0, 1, 2, 'Kapok'],\n",
       "       [8.666666667, 8.32, 1, 2, 'Kapok'],\n",
       "       [2.5, 15.0, 2, 1, 'Welan'],\n",
       "       [2.155555556, 29.1, 2, 1, 'Welan'],\n",
       "       [2.022222222, 27.3, 2, 1, 'Welan'],\n",
       "       [2.615384615, 26.52, 2, 1, 'Welan'],\n",
       "       [2.333333333, 20.16, 2, 1, 'Welan']], dtype=object)"
      ]
     },
     "execution_count": 12,
     "metadata": {},
     "output_type": "execute_result"
    }
   ],
   "source": [
    "dataset"
   ]
  },
  {
   "cell_type": "code",
   "execution_count": 16,
   "id": "2029fb36-fdfa-4c66-8ec3-63bb584ce65e",
   "metadata": {},
   "outputs": [
    {
     "data": {
      "text/plain": [
       "array([[2.476190476, 29.12, 2, 1],\n",
       "       [2.282608696, 32.2, 2, 1],\n",
       "       [2.542857143, 20.76666667, 2, 1],\n",
       "       [2.195121951, 24.6, 2, 1],\n",
       "       [3.3, 19.8, 0, 0],\n",
       "       [3.769230769, 16.98666667, 0, 0],\n",
       "       [3.458333333, 13.28, 1, 2],\n",
       "       [3.269230769, 14.73333333, 1, 2],\n",
       "       [3.0, 16.82, 1, 2],\n",
       "       [2.725, 29.06666667, 2, 1],\n",
       "       [2.820512821, 28.6, 2, 1],\n",
       "       [2.894736842, 27.86666667, 2, 1],\n",
       "       [2.194444444, 18.96, 2, 1],\n",
       "       [4.227272727, 13.64, 1, 2],\n",
       "       [4.6, 12.26666667, 1, 2],\n",
       "       [4.24, 17.66666667, 1, 2],\n",
       "       [4.375, 16.8, 1, 2],\n",
       "       [4.52173913, 15.94666667, 1, 2],\n",
       "       [2.454545455, 17.82, 2, 1],\n",
       "       [2.857142857, 23.33333333, 2, 1],\n",
       "       [3.382352941, 26.06666667, 0, 0],\n",
       "       [3.352941176, 25.84, 0, 0],\n",
       "       [3.424242424, 24.86, 0, 0],\n",
       "       [3.222222222, 27.84, 0, 0],\n",
       "       [3.352941176, 25.84, 0, 0],\n",
       "       [3.411764706, 26.29333333, 0, 0],\n",
       "       [3.5625, 24.32, 0, 0],\n",
       "       [3.53125, 24.10666667, 0, 0],\n",
       "       [3.7, 22.2, 0, 0],\n",
       "       [3.846153846, 17.33333333, 0, 0],\n",
       "       [3.740740741, 18.18, 0, 0],\n",
       "       [3.225806452, 20.66666667, 0, 0],\n",
       "       [3.0, 23.12, 0, 0],\n",
       "       [3.966666667, 23.8, 0, 0],\n",
       "       [3.6875, 25.17333333, 0, 0],\n",
       "       [3.866666667, 23.2, 0, 0],\n",
       "       [3.6, 15.0, 0, 0],\n",
       "       [4.083333333, 15.68, 0, 0],\n",
       "       [2.5, 15.0, 2, 1],\n",
       "       [2.3125, 15.78666667, 2, 1],\n",
       "       [2.55, 27.2, 2, 1],\n",
       "       [2.222222222, 30.0, 2, 1],\n",
       "       [2.682926829, 30.06666667, 2, 1],\n",
       "       [3.833333333, 23.0, 1, 2],\n",
       "       [3.931034483, 22.04, 1, 2],\n",
       "       [4.32, 18.0, 1, 2],\n",
       "       [4.416666667, 16.96, 1, 2],\n",
       "       [3.925925926, 19.08, 1, 2],\n",
       "       [4.2, 17.5, 1, 2],\n",
       "       [3.619047619, 10.64, 1, 2],\n",
       "       [3.347826087, 11.80666667, 1, 2],\n",
       "       [4.35, 11.6, 1, 2],\n",
       "       [4.095238095, 12.04, 1, 2],\n",
       "       [3.678571429, 19.22666667, 1, 2],\n",
       "       [4.434782609, 15.64, 1, 2],\n",
       "       [3.696969697, 26.84, 1, 2],\n",
       "       [3.903225806, 25.00666667, 1, 2],\n",
       "       [3.970588235, 30.6, 1, 2],\n",
       "       [4.03030303, 29.26, 1, 2],\n",
       "       [3.794117647, 29.24, 1, 2],\n",
       "       [3.878787879, 28.16, 1, 2],\n",
       "       [3.666666667, 22.0, 1, 2],\n",
       "       [3.75862069, 21.07333333, 1, 2],\n",
       "       [5.25, 14.0, 1, 2],\n",
       "       [8.666666667, 8.32, 1, 2],\n",
       "       [2.5, 15.0, 2, 1],\n",
       "       [2.155555556, 29.1, 2, 1],\n",
       "       [2.022222222, 27.3, 2, 1],\n",
       "       [2.615384615, 26.52, 2, 1],\n",
       "       [2.333333333, 20.16, 2, 1]], dtype=object)"
      ]
     },
     "execution_count": 16,
     "metadata": {},
     "output_type": "execute_result"
    }
   ],
   "source": [
    "dataset[:,0:4]"
   ]
  },
  {
   "cell_type": "code",
   "execution_count": 18,
   "id": "df66c4b8-d437-4192-b111-c7b00bc258dc",
   "metadata": {},
   "outputs": [
    {
     "data": {
      "text/plain": [
       "array(['Welan', 'Welan', 'Welan', 'Welan', 'Bora', 'Bora', 'Kapok',\n",
       "       'Kapok', 'Kapok', 'Welan', 'Welan', 'Welan', 'Welan', 'Kapok',\n",
       "       'Kapok', 'Kapok', 'Kapok', 'Kapok', 'Welan', 'Welan', 'Bora',\n",
       "       'Bora', 'Bora', 'Bora', 'Bora', 'Bora', 'Bora', 'Bora', 'Bora',\n",
       "       'Bora', 'Bora', 'Bora', 'Bora', 'Bora', 'Bora', 'Bora', 'Bora',\n",
       "       'Bora', 'Welan', 'Welan', 'Welan', 'Welan', 'Welan', 'Kapok',\n",
       "       'Kapok', 'Kapok', 'Kapok', 'Kapok', 'Kapok', 'Kapok', 'Kapok',\n",
       "       'Kapok', 'Kapok', 'Kapok', 'Kapok', 'Kapok', 'Kapok', 'Kapok',\n",
       "       'Kapok', 'Kapok', 'Kapok', 'Kapok', 'Kapok', 'Kapok', 'Kapok',\n",
       "       'Welan', 'Welan', 'Welan', 'Welan', 'Welan'], dtype=object)"
      ]
     },
     "execution_count": 18,
     "metadata": {},
     "output_type": "execute_result"
    }
   ],
   "source": [
    "dataset[:,4]"
   ]
  },
  {
   "cell_type": "code",
   "execution_count": 7,
   "id": "b8725b4a-f4d6-4dd4-bca3-f28ed0cc7887",
   "metadata": {},
   "outputs": [],
   "source": [
    "from sklearn.preprocessing import OneHotEncoder\n",
    "#for x\n",
    "X = dataset[:,0:4].astype(float)\n",
    "#for y\n",
    "Y = dataset[:,4]\n",
    "dataframe['Name'] = dataframe['Name'].astype('category')  \n",
    "# Assigning numerical values and storing it in another columns \n",
    "dataframe['Gen_new'] = dataframe['Name'].cat.codes  \n",
    "# Create an instance of One-hot-encoder \n",
    "enc = OneHotEncoder() \n",
    "# Passing encoded columns \n",
    "dummy_y = pd.DataFrame(enc.fit_transform(dataframe[['Gen_new']]).toarray()) "
   ]
  },
  {
   "cell_type": "code",
   "execution_count": 115,
   "id": "4722ee64-ce55-4d87-b7df-a5d93c13e8bd",
   "metadata": {},
   "outputs": [],
   "source": [
    "from sklearn.model_selection import train_test_split\n",
    "# Splitting data into training and testing sets\n",
    "X_train, X_test, y_train, y_test = train_test_split(X, dummy_y, test_size=0.2, random_state=3)"
   ]
  },
  {
   "cell_type": "code",
   "execution_count": 116,
   "id": "b0375bba-a00b-41a2-adbc-5fec2d0f4db5",
   "metadata": {},
   "outputs": [],
   "source": [
    "from keras.models import Model   \n",
    "from keras.layers import *\n",
    "\n",
    "#Defining the model\n",
    "inputs = Input(shape=(4,)) # input tensor\n",
    "hidden1 = Dense(units=8, activation='relu')(inputs) # layer 1\n",
    "hidden2 = Dense(units=8, activation='relu')(hidden1)  # layer 2\n",
    "outputs = Dense(units=3, activation='sigmoid')(hidden2)  # output layer\n",
    "\n",
    "# Initializing and training the classifier\n",
    "classifier = Model(inputs, outputs)\n"
   ]
  },
  {
   "cell_type": "code",
   "execution_count": 117,
   "id": "2901ef2a-7d49-4377-bdb6-ba8511856212",
   "metadata": {},
   "outputs": [],
   "source": [
    "#compiling the model\n",
    "classifier.compile(optimizer='adam', loss='categorical_crossentropy', metrics=['accuracy'])"
   ]
  },
  {
   "cell_type": "code",
   "execution_count": 118,
   "id": "e19553a2-fc20-4d07-b652-ed60d590445a",
   "metadata": {},
   "outputs": [
    {
     "name": "stdout",
     "output_type": "stream",
     "text": [
      "Epoch 1/5\n",
      "8/8 [==============================] - 0s 2ms/step - loss: 6.3500 - accuracy: 0.2857\n",
      "Epoch 2/5\n",
      "8/8 [==============================] - 0s 699us/step - loss: 5.6377 - accuracy: 0.2857\n",
      "Epoch 3/5\n",
      "8/8 [==============================] - 0s 1ms/step - loss: 4.9949 - accuracy: 0.2857\n",
      "Epoch 4/5\n",
      "8/8 [==============================] - 0s 1ms/step - loss: 4.4108 - accuracy: 0.2857\n",
      "Epoch 5/5\n",
      "8/8 [==============================] - 0s 1ms/step - loss: 3.8532 - accuracy: 0.2857\n"
     ]
    },
    {
     "data": {
      "text/plain": [
       "<keras.callbacks.History at 0x2192ad8e460>"
      ]
     },
     "execution_count": 118,
     "metadata": {},
     "output_type": "execute_result"
    }
   ],
   "source": [
    "#training the network\n",
    "classifier.fit(X_train, y_train,epochs=5, batch_size=7)"
   ]
  },
  {
   "cell_type": "code",
   "execution_count": 119,
   "id": "c992dbd9-3580-4ce0-9213-587be4cf2876",
   "metadata": {},
   "outputs": [
    {
     "name": "stdout",
     "output_type": "stream",
     "text": [
      "1/1 [==============================] - 0s 47ms/step\n"
     ]
    }
   ],
   "source": [
    "import numpy as np\n",
    "# Making predictions on the test set\n",
    "y_pred=classifier.predict(X_test) \n",
    "y_pred=np.argmax(y_pred, axis=1)"
   ]
  },
  {
   "cell_type": "code",
   "execution_count": 120,
   "id": "b35a3982-2973-48c2-b398-d8f55eabd965",
   "metadata": {},
   "outputs": [
    {
     "name": "stdout",
     "output_type": "stream",
     "text": [
      "Accuracy: 0.2857142857142857\n"
     ]
    }
   ],
   "source": [
    "from sklearn.metrics import accuracy_score\n",
    "\n",
    "# Calculating accuracy\n",
    "y_test=np.argmax(y_test, axis=1)\n",
    "accuracy = accuracy_score(y_test, y_pred)\n",
    "print(\"Accuracy:\", accuracy)"
   ]
  },
  {
   "cell_type": "code",
   "execution_count": 126,
   "id": "272bac29-9742-4d32-aa1b-4de36e73c684",
   "metadata": {},
   "outputs": [],
   "source": [
    "#test 2\n",
    "from sklearn.model_selection import train_test_split\n",
    "# Splitting data into training and testing sets\n",
    "X_train, X_test, y_train, y_test = train_test_split(X, dummy_y, test_size=0.2, random_state=3)"
   ]
  },
  {
   "cell_type": "code",
   "execution_count": 127,
   "id": "416fe783-f0e5-4664-b9e5-bb541f7b5d97",
   "metadata": {},
   "outputs": [],
   "source": [
    "from keras.models import Model   \n",
    "from keras.layers import *\n",
    "\n",
    "#Defining the model\n",
    "inputs = Input(shape=(4,)) # input tensor\n",
    "hidden1 = Dense(units=8, activation='relu')(inputs) # layer 1\n",
    "hidden2 = Dense(units=8, activation='relu')(hidden1)  # layer 2\n",
    "outputs = Dense(units=3, activation='softmax')(hidden2)  # output layer\n",
    "\n",
    "# Initializing and training the classifier\n",
    "classifier = Model(inputs, outputs)\n",
    "\n",
    "#compiling the model\n",
    "classifier.compile(optimizer='adam', loss='categorical_crossentropy', metrics=['accuracy'])"
   ]
  },
  {
   "cell_type": "code",
   "execution_count": 128,
   "id": "0f87a061-c9bc-44ef-a8af-3536a22f929c",
   "metadata": {},
   "outputs": [
    {
     "name": "stdout",
     "output_type": "stream",
     "text": [
      "Epoch 1/5\n",
      "8/8 [==============================] - 0s 3ms/step - loss: 1.5822 - accuracy: 0.6786\n",
      "Epoch 2/5\n",
      "8/8 [==============================] - 0s 718us/step - loss: 1.4037 - accuracy: 0.7143\n",
      "Epoch 3/5\n",
      "8/8 [==============================] - 0s 691us/step - loss: 1.2570 - accuracy: 0.7143\n",
      "Epoch 4/5\n",
      "8/8 [==============================] - 0s 1ms/step - loss: 1.1074 - accuracy: 0.6786\n",
      "Epoch 5/5\n",
      "8/8 [==============================] - 0s 1ms/step - loss: 0.9959 - accuracy: 0.6429\n"
     ]
    },
    {
     "data": {
      "text/plain": [
       "<keras.callbacks.History at 0x2192df28340>"
      ]
     },
     "execution_count": 128,
     "metadata": {},
     "output_type": "execute_result"
    }
   ],
   "source": [
    "#training the network\n",
    "classifier.fit(X_train, y_train,epochs=5, batch_size=7)"
   ]
  },
  {
   "cell_type": "code",
   "execution_count": 129,
   "id": "8e34e594-5ba7-408b-a820-1d256dcfae69",
   "metadata": {},
   "outputs": [
    {
     "name": "stdout",
     "output_type": "stream",
     "text": [
      "1/1 [==============================] - 0s 47ms/step\n"
     ]
    }
   ],
   "source": [
    "import numpy as np\n",
    "# Making predictions on the test set\n",
    "y_pred=classifier.predict(X_test) \n",
    "y_pred=np.argmax(y_pred, axis=1)"
   ]
  },
  {
   "cell_type": "code",
   "execution_count": 130,
   "id": "23a84fa7-1690-4063-8abd-1f10bb4a0949",
   "metadata": {},
   "outputs": [
    {
     "name": "stdout",
     "output_type": "stream",
     "text": [
      "Accuracy: 0.7142857142857143\n"
     ]
    }
   ],
   "source": [
    "from sklearn.metrics import accuracy_score\n",
    "\n",
    "# Calculating accuracy\n",
    "y_test=np.argmax(y_test, axis=1)\n",
    "accuracy = accuracy_score(y_test, y_pred)\n",
    "print(\"Accuracy:\", accuracy)"
   ]
  },
  {
   "cell_type": "code",
   "execution_count": 132,
   "id": "ea014a9d-d9bd-4361-b8e0-0d47fb6ac795",
   "metadata": {},
   "outputs": [],
   "source": [
    "#test3\n",
    "from sklearn.model_selection import train_test_split\n",
    "# Splitting data into training and testing sets\n",
    "X_train, X_test, y_train, y_test = train_test_split(X, dummy_y, test_size=0.2, random_state=3)"
   ]
  },
  {
   "cell_type": "code",
   "execution_count": 133,
   "id": "ad6230d5-c894-494d-9c13-239264025aca",
   "metadata": {},
   "outputs": [],
   "source": [
    "from keras.models import Model   \n",
    "from keras.layers import *\n",
    "\n",
    "#Defining the model\n",
    "inputs = Input(shape=(4,)) # input tensor\n",
    "hidden1 = Dense(units=8, activation='relu')(inputs) # layer 1\n",
    "hidden2 = Dense(units=8, activation='relu')(hidden1)  # layer 2\n",
    "outputs = Dense(units=3, activation='sigmoid')(hidden2)  # output layer\n",
    "\n",
    "# Initializing and training the classifier\n",
    "classifier = Model(inputs, outputs)\n",
    "\n",
    "#compiling the model\n",
    "classifier.compile(optimizer='rmsprop', loss='categorical_crossentropy', metrics=['accuracy'])"
   ]
  },
  {
   "cell_type": "code",
   "execution_count": 134,
   "id": "b5dc8e2b-9997-4d2c-8baf-6db896ea45f4",
   "metadata": {},
   "outputs": [
    {
     "name": "stdout",
     "output_type": "stream",
     "text": [
      "Epoch 1/5\n",
      "8/8 [==============================] - 1s 2ms/step - loss: 4.9863 - accuracy: 0.2857\n",
      "Epoch 2/5\n",
      "8/8 [==============================] - 0s 1ms/step - loss: 3.9763 - accuracy: 0.2857\n",
      "Epoch 3/5\n",
      "8/8 [==============================] - 0s 1ms/step - loss: 3.4250 - accuracy: 0.2857\n",
      "Epoch 4/5\n",
      "8/8 [==============================] - 0s 375us/step - loss: 3.0037 - accuracy: 0.2857\n",
      "Epoch 5/5\n",
      "8/8 [==============================] - 0s 141us/step - loss: 2.6485 - accuracy: 0.2857\n"
     ]
    },
    {
     "data": {
      "text/plain": [
       "<keras.callbacks.History at 0x2192f163bb0>"
      ]
     },
     "execution_count": 134,
     "metadata": {},
     "output_type": "execute_result"
    }
   ],
   "source": [
    "#training the network\n",
    "classifier.fit(X_train, y_train,epochs=5, batch_size=7)"
   ]
  },
  {
   "cell_type": "code",
   "execution_count": 135,
   "id": "b0b9f0c1-852a-4893-b919-4c9138b88fa2",
   "metadata": {},
   "outputs": [
    {
     "name": "stdout",
     "output_type": "stream",
     "text": [
      "1/1 [==============================] - 0s 65ms/step\n"
     ]
    }
   ],
   "source": [
    "import numpy as np\n",
    "# Making predictions on the test set\n",
    "y_pred=classifier.predict(X_test) \n",
    "y_pred=np.argmax(y_pred, axis=1)"
   ]
  },
  {
   "cell_type": "code",
   "execution_count": 136,
   "id": "d2a60b52-dad0-47e5-bfe6-2b90ff91aba5",
   "metadata": {},
   "outputs": [
    {
     "name": "stdout",
     "output_type": "stream",
     "text": [
      "Accuracy: 0.2857142857142857\n"
     ]
    }
   ],
   "source": [
    "from sklearn.metrics import accuracy_score\n",
    "\n",
    "# Calculating accuracy\n",
    "y_test=np.argmax(y_test, axis=1)\n",
    "accuracy = accuracy_score(y_test, y_pred)\n",
    "print(\"Accuracy:\", accuracy)"
   ]
  },
  {
   "cell_type": "code",
   "execution_count": 137,
   "id": "0ad6685c-b0b6-483b-bf67-af40a35fbb52",
   "metadata": {},
   "outputs": [],
   "source": [
    "#test4\n",
    "from sklearn.model_selection import train_test_split\n",
    "# Splitting data into training and testing sets\n",
    "X_train, X_test, y_train, y_test = train_test_split(X, dummy_y, test_size=0.2, random_state=3)"
   ]
  },
  {
   "cell_type": "code",
   "execution_count": 138,
   "id": "a4d073bb-5dd2-4ce4-89cf-b2899294d9e3",
   "metadata": {},
   "outputs": [],
   "source": [
    "from keras.models import Model   \n",
    "from keras.layers import *\n",
    "\n",
    "#Defining the model\n",
    "inputs = Input(shape=(4,)) # input tensor\n",
    "hidden1 = Dense(units=8, activation='relu')(inputs) # layer 1\n",
    "hidden2 = Dense(units=8, activation='relu')(hidden1)  # layer 2\n",
    "outputs = Dense(units=3, activation='softmax')(hidden2)  # output layer\n",
    "\n",
    "# Initializing and training the classifier\n",
    "classifier = Model(inputs, outputs)\n",
    "\n",
    "#compiling the model\n",
    "classifier.compile(optimizer='rmsprop', loss='categorical_crossentropy', metrics=['accuracy'])"
   ]
  },
  {
   "cell_type": "code",
   "execution_count": 139,
   "id": "5284aaad-7bff-4c1c-a971-4ace89aece5e",
   "metadata": {},
   "outputs": [
    {
     "name": "stdout",
     "output_type": "stream",
     "text": [
      "Epoch 1/5\n",
      "8/8 [==============================] - 1s 3ms/step - loss: 2.4826 - accuracy: 0.2857\n",
      "Epoch 2/5\n",
      "8/8 [==============================] - 0s 1ms/step - loss: 2.1941 - accuracy: 0.2857\n",
      "Epoch 3/5\n",
      "8/8 [==============================] - 0s 646us/step - loss: 1.9914 - accuracy: 0.2857\n",
      "Epoch 4/5\n",
      "8/8 [==============================] - 0s 1ms/step - loss: 1.8060 - accuracy: 0.2857\n",
      "Epoch 5/5\n",
      "8/8 [==============================] - 0s 545us/step - loss: 1.6356 - accuracy: 0.2857\n"
     ]
    },
    {
     "data": {
      "text/plain": [
       "<keras.callbacks.History at 0x2192f4a51f0>"
      ]
     },
     "execution_count": 139,
     "metadata": {},
     "output_type": "execute_result"
    }
   ],
   "source": [
    "#training the network\n",
    "classifier.fit(X_train, y_train,epochs=5, batch_size=7)"
   ]
  },
  {
   "cell_type": "code",
   "execution_count": 140,
   "id": "3a900a6b-c417-439e-8269-b3dcdc1e77bc",
   "metadata": {},
   "outputs": [
    {
     "name": "stdout",
     "output_type": "stream",
     "text": [
      "1/1 [==============================] - 0s 54ms/step\n"
     ]
    }
   ],
   "source": [
    "import numpy as np\n",
    "# Making predictions on the test set\n",
    "y_pred=classifier.predict(X_test) \n",
    "y_pred=np.argmax(y_pred, axis=1)"
   ]
  },
  {
   "cell_type": "code",
   "execution_count": 141,
   "id": "8e6dd80e-1f87-4efa-a48f-074855b844f1",
   "metadata": {},
   "outputs": [
    {
     "name": "stdout",
     "output_type": "stream",
     "text": [
      "Accuracy: 0.2857142857142857\n"
     ]
    }
   ],
   "source": [
    "from sklearn.metrics import accuracy_score\n",
    "\n",
    "# Calculating accuracy\n",
    "y_test=np.argmax(y_test, axis=1)\n",
    "accuracy = accuracy_score(y_test, y_pred)\n",
    "print(\"Accuracy:\", accuracy)"
   ]
  },
  {
   "cell_type": "code",
   "execution_count": 142,
   "id": "b1911b51-145d-429a-8bb1-e5383834a2aa",
   "metadata": {},
   "outputs": [],
   "source": [
    "#test 5\n",
    "\n",
    "from sklearn.model_selection import train_test_split\n",
    "# Splitting data into training and testing sets\n",
    "X_train, X_test, y_train, y_test = train_test_split(X, dummy_y, test_size=0.2, random_state=3)"
   ]
  },
  {
   "cell_type": "code",
   "execution_count": 143,
   "id": "db3d8337-08a8-433b-b94d-9e8fbf9a8b1c",
   "metadata": {},
   "outputs": [],
   "source": [
    "from keras.models import Model   \n",
    "from keras.layers import *\n",
    "\n",
    "#Defining the model\n",
    "inputs = Input(shape=(4,)) # input tensor\n",
    "hidden1 = Dense(units=8, activation='relu')(inputs) # layer 1\n",
    "hidden2 = Dense(units=8, activation='relu')(hidden1)  # layer 2\n",
    "outputs = Dense(units=3, activation='softmax')(hidden2)  # output layer\n",
    "\n",
    "# Initializing and training the classifier\n",
    "classifier = Model(inputs, outputs)\n",
    "\n",
    "#compiling the model\n",
    "classifier.compile(optimizer='adam', loss='categorical_crossentropy', metrics=['accuracy'])"
   ]
  },
  {
   "cell_type": "code",
   "execution_count": 146,
   "id": "5de35dad-b905-4af2-900d-6f6b8016ae24",
   "metadata": {},
   "outputs": [
    {
     "name": "stdout",
     "output_type": "stream",
     "text": [
      "Epoch 1/10\n",
      "8/8 [==============================] - 0s 3ms/step - loss: 0.6483 - accuracy: 0.7143\n",
      "Epoch 2/10\n",
      "8/8 [==============================] - 0s 2ms/step - loss: 0.6226 - accuracy: 0.7143\n",
      "Epoch 3/10\n",
      "8/8 [==============================] - 0s 2ms/step - loss: 0.5895 - accuracy: 0.7143\n",
      "Epoch 4/10\n",
      "8/8 [==============================] - 0s 2ms/step - loss: 0.5685 - accuracy: 0.7143\n",
      "Epoch 5/10\n",
      "8/8 [==============================] - 0s 2ms/step - loss: 0.5592 - accuracy: 0.7143\n",
      "Epoch 6/10\n",
      "8/8 [==============================] - 0s 2ms/step - loss: 0.5467 - accuracy: 0.7143\n",
      "Epoch 7/10\n",
      "8/8 [==============================] - 0s 4ms/step - loss: 0.5383 - accuracy: 0.7143\n",
      "Epoch 8/10\n",
      "8/8 [==============================] - 0s 2ms/step - loss: 0.5310 - accuracy: 0.7143\n",
      "Epoch 9/10\n",
      "8/8 [==============================] - 0s 4ms/step - loss: 0.5194 - accuracy: 0.7143\n",
      "Epoch 10/10\n",
      "8/8 [==============================] - 0s 2ms/step - loss: 0.5101 - accuracy: 0.7143\n"
     ]
    },
    {
     "data": {
      "text/plain": [
       "<keras.callbacks.History at 0x2192f25ccd0>"
      ]
     },
     "execution_count": 146,
     "metadata": {},
     "output_type": "execute_result"
    }
   ],
   "source": [
    "#training the network\n",
    "classifier.fit(X_train, y_train,epochs=10, batch_size=7)"
   ]
  },
  {
   "cell_type": "code",
   "execution_count": 147,
   "id": "b1dbe515-9b56-4e13-bbde-a855e1f4f653",
   "metadata": {},
   "outputs": [
    {
     "name": "stdout",
     "output_type": "stream",
     "text": [
      "1/1 [==============================] - 0s 136ms/step\n"
     ]
    }
   ],
   "source": [
    "import numpy as np\n",
    "# Making predictions on the test set\n",
    "y_pred=classifier.predict(X_test) \n",
    "y_pred=np.argmax(y_pred, axis=1)"
   ]
  },
  {
   "cell_type": "code",
   "execution_count": 148,
   "id": "f6fe73ad-385e-4c65-b36b-ff00f4330bbf",
   "metadata": {},
   "outputs": [
    {
     "name": "stdout",
     "output_type": "stream",
     "text": [
      "Accuracy: 0.7142857142857143\n"
     ]
    }
   ],
   "source": [
    "from sklearn.metrics import accuracy_score\n",
    "\n",
    "# Calculating accuracy\n",
    "y_test=np.argmax(y_test, axis=1)\n",
    "accuracy = accuracy_score(y_test, y_pred)\n",
    "print(\"Accuracy:\", accuracy)"
   ]
  },
  {
   "cell_type": "code",
   "execution_count": 149,
   "id": "31e83e07-1805-412b-8e7a-afafbe34ed2b",
   "metadata": {},
   "outputs": [],
   "source": [
    "#test 6\n",
    "from sklearn.model_selection import train_test_split\n",
    "# Splitting data into training and testing sets\n",
    "X_train, X_test, y_train, y_test = train_test_split(X, dummy_y, test_size=0.2, random_state=3)"
   ]
  },
  {
   "cell_type": "code",
   "execution_count": 150,
   "id": "bb4407f0-1882-43d1-bd3f-889fb260269f",
   "metadata": {},
   "outputs": [],
   "source": [
    "from keras.models import Model   \n",
    "from keras.layers import *\n",
    "\n",
    "#Defining the model\n",
    "inputs = Input(shape=(4,)) # input tensor\n",
    "hidden1 = Dense(units=8, activation='relu')(inputs) # layer 1\n",
    "hidden2 = Dense(units=8, activation='relu')(hidden1)  # layer 2\n",
    "outputs = Dense(units=3, activation='softmax')(hidden2)  # output layer\n",
    "\n",
    "# Initializing and training the classifier\n",
    "classifier = Model(inputs, outputs)\n",
    "\n",
    "#compiling the model\n",
    "classifier.compile(optimizer='adam', loss='categorical_crossentropy', metrics=['accuracy'])"
   ]
  },
  {
   "cell_type": "code",
   "execution_count": 151,
   "id": "c23142a3-b421-4f28-b9fa-bbd7a4a2d551",
   "metadata": {},
   "outputs": [
    {
     "name": "stdout",
     "output_type": "stream",
     "text": [
      "Epoch 1/15\n",
      "8/8 [==============================] - 1s 3ms/step - loss: 1.0871 - accuracy: 0.2857\n",
      "Epoch 2/15\n",
      "8/8 [==============================] - 0s 3ms/step - loss: 0.9809 - accuracy: 0.5357\n",
      "Epoch 3/15\n",
      "8/8 [==============================] - 0s 4ms/step - loss: 0.9521 - accuracy: 0.6429\n",
      "Epoch 4/15\n",
      "8/8 [==============================] - 0s 3ms/step - loss: 0.9210 - accuracy: 0.6786\n",
      "Epoch 5/15\n",
      "8/8 [==============================] - 0s 2ms/step - loss: 0.9150 - accuracy: 0.7143\n",
      "Epoch 6/15\n",
      "8/8 [==============================] - 0s 2ms/step - loss: 0.9045 - accuracy: 0.7143\n",
      "Epoch 7/15\n",
      "8/8 [==============================] - 0s 2ms/step - loss: 0.8941 - accuracy: 0.7143\n",
      "Epoch 8/15\n",
      "8/8 [==============================] - 0s 2ms/step - loss: 0.8872 - accuracy: 0.7143\n",
      "Epoch 9/15\n",
      "8/8 [==============================] - 0s 2ms/step - loss: 0.8781 - accuracy: 0.7143\n",
      "Epoch 10/15\n",
      "8/8 [==============================] - 0s 2ms/step - loss: 0.8687 - accuracy: 0.7679\n",
      "Epoch 11/15\n",
      "8/8 [==============================] - 0s 2ms/step - loss: 0.8607 - accuracy: 0.8393\n",
      "Epoch 12/15\n",
      "8/8 [==============================] - 0s 4ms/step - loss: 0.8504 - accuracy: 0.9286\n",
      "Epoch 13/15\n",
      "8/8 [==============================] - 0s 2ms/step - loss: 0.8455 - accuracy: 0.8393\n",
      "Epoch 14/15\n",
      "8/8 [==============================] - 0s 3ms/step - loss: 0.8312 - accuracy: 0.7857\n",
      "Epoch 15/15\n",
      "8/8 [==============================] - 0s 3ms/step - loss: 0.8257 - accuracy: 0.9286\n"
     ]
    },
    {
     "data": {
      "text/plain": [
       "<keras.callbacks.History at 0x2193092a2e0>"
      ]
     },
     "execution_count": 151,
     "metadata": {},
     "output_type": "execute_result"
    }
   ],
   "source": [
    "#training the network\n",
    "classifier.fit(X_train, y_train,epochs=15, batch_size=7)"
   ]
  },
  {
   "cell_type": "code",
   "execution_count": 152,
   "id": "6cec16b4-1bed-47de-997d-7043c0abac0f",
   "metadata": {},
   "outputs": [
    {
     "name": "stdout",
     "output_type": "stream",
     "text": [
      "1/1 [==============================] - 0s 134ms/step\n"
     ]
    }
   ],
   "source": [
    "import numpy as np\n",
    "# Making predictions on the test set\n",
    "y_pred=classifier.predict(X_test) \n",
    "y_pred=np.argmax(y_pred, axis=1)"
   ]
  },
  {
   "cell_type": "code",
   "execution_count": 153,
   "id": "9c900671-8868-4cd2-95a2-adca868dfd86",
   "metadata": {},
   "outputs": [
    {
     "name": "stdout",
     "output_type": "stream",
     "text": [
      "Accuracy: 0.9285714285714286\n"
     ]
    }
   ],
   "source": [
    "from sklearn.metrics import accuracy_score\n",
    "\n",
    "# Calculating accuracy\n",
    "y_test=np.argmax(y_test, axis=1)\n",
    "accuracy = accuracy_score(y_test, y_pred)\n",
    "print(\"Accuracy:\", accuracy)"
   ]
  },
  {
   "cell_type": "code",
   "execution_count": 15,
   "id": "20582f2b-6e61-4c30-a3c1-1efcf0dc0a9c",
   "metadata": {},
   "outputs": [],
   "source": [
    "#test 7\n",
    "from sklearn.model_selection import train_test_split\n",
    "# Splitting data into training and testing sets\n",
    "X_train, X_test, y_train, y_test = train_test_split(X, dummy_y, test_size=0.2, random_state=3)"
   ]
  },
  {
   "cell_type": "code",
   "execution_count": 16,
   "id": "bc81bf5a-daa2-46ed-8d1d-8b1ea9317058",
   "metadata": {},
   "outputs": [],
   "source": [
    "from keras.models import Model   \n",
    "from keras.layers import *\n",
    "\n",
    "#Defining the model\n",
    "inputs = Input(shape=(4,)) # input tensor\n",
    "hidden1 = Dense(units=8, activation='relu')(inputs) # layer 1\n",
    "hidden2 = Dense(units=8, activation='relu')(hidden1)  # layer 2\n",
    "outputs = Dense(units=3, activation='softmax')(hidden2)  # output layer\n",
    "\n",
    "# Initializing and training the classifier\n",
    "classifier = Model(inputs, outputs)\n",
    "\n",
    "#compiling the model\n",
    "classifier.compile(optimizer='adam', loss='categorical_crossentropy', metrics=['accuracy'])"
   ]
  },
  {
   "cell_type": "code",
   "execution_count": 17,
   "id": "125a0015-4109-423b-9525-bc72b98c6d9b",
   "metadata": {},
   "outputs": [
    {
     "name": "stdout",
     "output_type": "stream",
     "text": [
      "Epoch 1/20\n",
      "8/8 [==============================] - 1s 3ms/step - loss: 4.0931 - accuracy: 0.2500\n",
      "Epoch 2/20\n",
      "8/8 [==============================] - 0s 2ms/step - loss: 3.4764 - accuracy: 0.1429\n",
      "Epoch 3/20\n",
      "8/8 [==============================] - 0s 2ms/step - loss: 3.1816 - accuracy: 0.0536\n",
      "Epoch 4/20\n",
      "8/8 [==============================] - 0s 2ms/step - loss: 2.8730 - accuracy: 0.0714\n",
      "Epoch 5/20\n",
      "8/8 [==============================] - 0s 2ms/step - loss: 2.4884 - accuracy: 0.0357\n",
      "Epoch 6/20\n",
      "8/8 [==============================] - 0s 2ms/step - loss: 2.2066 - accuracy: 0.0893\n",
      "Epoch 7/20\n",
      "8/8 [==============================] - 0s 2ms/step - loss: 1.8887 - accuracy: 0.1071\n",
      "Epoch 8/20\n",
      "8/8 [==============================] - 0s 2ms/step - loss: 1.6356 - accuracy: 0.0714\n",
      "Epoch 9/20\n",
      "8/8 [==============================] - 0s 2ms/step - loss: 1.4193 - accuracy: 0.0714\n",
      "Epoch 10/20\n",
      "8/8 [==============================] - 0s 2ms/step - loss: 1.2854 - accuracy: 0.0714\n",
      "Epoch 11/20\n",
      "8/8 [==============================] - 0s 2ms/step - loss: 1.2236 - accuracy: 0.2321\n",
      "Epoch 12/20\n",
      "8/8 [==============================] - 0s 2ms/step - loss: 1.2008 - accuracy: 0.3571\n",
      "Epoch 13/20\n",
      "8/8 [==============================] - 0s 3ms/step - loss: 1.1853 - accuracy: 0.4286\n",
      "Epoch 14/20\n",
      "8/8 [==============================] - 0s 2ms/step - loss: 1.2026 - accuracy: 0.3571\n",
      "Epoch 15/20\n",
      "8/8 [==============================] - 0s 2ms/step - loss: 1.1644 - accuracy: 0.3571\n",
      "Epoch 16/20\n",
      "8/8 [==============================] - 0s 2ms/step - loss: 1.1531 - accuracy: 0.3571\n",
      "Epoch 17/20\n",
      "8/8 [==============================] - 0s 2ms/step - loss: 1.1433 - accuracy: 0.4107\n",
      "Epoch 18/20\n",
      "8/8 [==============================] - 0s 2ms/step - loss: 1.1350 - accuracy: 0.3571\n",
      "Epoch 19/20\n",
      "8/8 [==============================] - 0s 2ms/step - loss: 1.1221 - accuracy: 0.3393\n",
      "Epoch 20/20\n",
      "8/8 [==============================] - 0s 2ms/step - loss: 1.1109 - accuracy: 0.3571\n"
     ]
    },
    {
     "data": {
      "text/plain": [
       "<keras.callbacks.History at 0x1639c884880>"
      ]
     },
     "execution_count": 17,
     "metadata": {},
     "output_type": "execute_result"
    }
   ],
   "source": [
    "#training the network\n",
    "classifier.fit(X_train, y_train,epochs=20, batch_size=7)"
   ]
  },
  {
   "cell_type": "code",
   "execution_count": 18,
   "id": "03ffa188-26ba-4b1c-8cd2-de32bb930df5",
   "metadata": {},
   "outputs": [
    {
     "name": "stdout",
     "output_type": "stream",
     "text": [
      "1/1 [==============================] - 0s 150ms/step\n"
     ]
    }
   ],
   "source": [
    "import numpy as np\n",
    "# Making predictions on the test set\n",
    "y_pred=classifier.predict(X_test) \n",
    "y_pred=np.argmax(y_pred, axis=1)"
   ]
  },
  {
   "cell_type": "code",
   "execution_count": 19,
   "id": "a377cfb6-7b10-49ca-891e-43c4b660606b",
   "metadata": {},
   "outputs": [
    {
     "name": "stdout",
     "output_type": "stream",
     "text": [
      "Accuracy: 0.35714285714285715\n"
     ]
    }
   ],
   "source": [
    "from sklearn.metrics import accuracy_score\n",
    "\n",
    "# Calculating accuracy\n",
    "y_test=np.argmax(y_test, axis=1)\n",
    "accuracy = accuracy_score(y_test, y_pred)\n",
    "print(\"Accuracy:\", accuracy)"
   ]
  },
  {
   "cell_type": "code",
   "execution_count": 28,
   "id": "70250f62-8a5c-407c-88c9-2fd2dc2a2a3d",
   "metadata": {},
   "outputs": [],
   "source": [
    "#test 8\n",
    "\n",
    "from sklearn.model_selection import train_test_split\n",
    "# Splitting data into training and testing sets\n",
    "X_train, X_test, y_train, y_test = train_test_split(X, dummy_y, test_size=0.2, random_state=3)"
   ]
  },
  {
   "cell_type": "code",
   "execution_count": 22,
   "id": "46fa71d4-4bdc-4465-83b3-a6435df34ee3",
   "metadata": {},
   "outputs": [],
   "source": [
    "from keras.models import Model   \n",
    "from keras.layers import *\n",
    "\n",
    "#Defining the model\n",
    "inputs = Input(shape=(4,)) # input tensor\n",
    "hidden1 = Dense(units=8, activation='relu')(inputs) # layer 1\n",
    "hidden2 = Dense(units=8, activation='relu')(hidden1)  # layer 2\n",
    "hidden3 = Dense(units=8, activation='relu')(hidden2)\n",
    "outputs = Dense(units=3, activation='softmax')(hidden3)  # output layer\n",
    "\n",
    "# Initializing and training the classifier\n",
    "classifier = Model(inputs, outputs)\n",
    "\n",
    "#compiling the model\n",
    "classifier.compile(optimizer='adam', loss='categorical_crossentropy', metrics=['accuracy'])"
   ]
  },
  {
   "cell_type": "code",
   "execution_count": 25,
   "id": "4fd549e0-8196-4be7-8d2f-67f207aae57e",
   "metadata": {},
   "outputs": [
    {
     "name": "stdout",
     "output_type": "stream",
     "text": [
      "Epoch 1/10\n",
      "8/8 [==============================] - 0s 3ms/step - loss: 1.0043 - accuracy: 0.6429\n",
      "Epoch 2/10\n",
      "8/8 [==============================] - 0s 4ms/step - loss: 0.9863 - accuracy: 0.6429\n",
      "Epoch 3/10\n",
      "8/8 [==============================] - 0s 3ms/step - loss: 0.9669 - accuracy: 0.6429\n",
      "Epoch 4/10\n",
      "8/8 [==============================] - 0s 2ms/step - loss: 0.9510 - accuracy: 0.6429\n",
      "Epoch 5/10\n",
      "8/8 [==============================] - 0s 2ms/step - loss: 0.9410 - accuracy: 0.6429\n",
      "Epoch 6/10\n",
      "8/8 [==============================] - 0s 3ms/step - loss: 0.9291 - accuracy: 0.6429\n",
      "Epoch 7/10\n",
      "8/8 [==============================] - 0s 3ms/step - loss: 0.9201 - accuracy: 0.6429\n",
      "Epoch 8/10\n",
      "8/8 [==============================] - 0s 2ms/step - loss: 0.9138 - accuracy: 0.6429\n",
      "Epoch 9/10\n",
      "8/8 [==============================] - 0s 2ms/step - loss: 0.9088 - accuracy: 0.6429\n",
      "Epoch 10/10\n",
      "8/8 [==============================] - 0s 4ms/step - loss: 0.9041 - accuracy: 0.6071\n"
     ]
    },
    {
     "data": {
      "text/plain": [
       "<keras.callbacks.History at 0x163978f09d0>"
      ]
     },
     "execution_count": 25,
     "metadata": {},
     "output_type": "execute_result"
    }
   ],
   "source": [
    "#training the network\n",
    "classifier.fit(X_train, y_train,epochs=10, batch_size=7)"
   ]
  },
  {
   "cell_type": "code",
   "execution_count": 26,
   "id": "dfbc8243-056e-4e0f-a8b8-7c3713510029",
   "metadata": {},
   "outputs": [
    {
     "name": "stdout",
     "output_type": "stream",
     "text": [
      "1/1 [==============================] - 0s 160ms/step\n"
     ]
    }
   ],
   "source": [
    "import numpy as np\n",
    "# Making predictions on the test set\n",
    "y_pred=classifier.predict(X_test) \n",
    "y_pred=np.argmax(y_pred, axis=1)"
   ]
  },
  {
   "cell_type": "code",
   "execution_count": 27,
   "id": "90788816-ddd4-4ba3-af6a-8c0929c0e2ca",
   "metadata": {},
   "outputs": [
    {
     "name": "stdout",
     "output_type": "stream",
     "text": [
      "Accuracy: 0.5\n"
     ]
    }
   ],
   "source": [
    "from sklearn.metrics import accuracy_score\n",
    "\n",
    "# Calculating accuracy\n",
    "y_test=np.argmax(y_test, axis=1)\n",
    "accuracy = accuracy_score(y_test, y_pred)\n",
    "print(\"Accuracy:\", accuracy)"
   ]
  },
  {
   "cell_type": "code",
   "execution_count": 29,
   "id": "e28e3dba-e631-4a23-b009-cce4c63d429e",
   "metadata": {},
   "outputs": [],
   "source": [
    "#test 9\n",
    "\n",
    "from sklearn.model_selection import train_test_split\n",
    "# Splitting data into training and testing sets\n",
    "X_train, X_test, y_train, y_test = train_test_split(X, dummy_y, test_size=0.2, random_state=3)"
   ]
  },
  {
   "cell_type": "code",
   "execution_count": 32,
   "id": "b98a1171-da14-4758-aeb3-0e345f25a2d8",
   "metadata": {},
   "outputs": [],
   "source": [
    "from keras.models import Model   \n",
    "from keras.layers import *\n",
    "\n",
    "#Defining the model\n",
    "inputs = Input(shape=(4,)) # input tensor\n",
    "hidden1 = Dense(units=8, activation='relu')(inputs) # layer 1\n",
    "hidden2 = Dense(units=8, activation='relu')(hidden1)  # layer 2\n",
    "outputs = Dense(units=3, activation='softmax')(hidden2)  # output layer\n",
    "\n",
    "# Initializing and training the classifier\n",
    "classifier = Model(inputs, outputs)\n",
    "\n",
    "#compiling the model\n",
    "classifier.compile(optimizer='adagrad', loss='categorical_crossentropy', metrics=['accuracy'])"
   ]
  },
  {
   "cell_type": "code",
   "execution_count": 34,
   "id": "328779f5-5753-4727-be1a-300452ccae35",
   "metadata": {},
   "outputs": [
    {
     "name": "stdout",
     "output_type": "stream",
     "text": [
      "Epoch 1/5\n",
      "8/8 [==============================] - 0s 1ms/step - loss: 1.3676 - accuracy: 0.3571\n",
      "Epoch 2/5\n",
      "8/8 [==============================] - 0s 2ms/step - loss: 1.3429 - accuracy: 0.3571\n",
      "Epoch 3/5\n",
      "8/8 [==============================] - 0s 2ms/step - loss: 1.3209 - accuracy: 0.3750\n",
      "Epoch 4/5\n",
      "8/8 [==============================] - 0s 2ms/step - loss: 1.3013 - accuracy: 0.3929\n",
      "Epoch 5/5\n",
      "8/8 [==============================] - 0s 2ms/step - loss: 1.2824 - accuracy: 0.4107\n"
     ]
    },
    {
     "data": {
      "text/plain": [
       "<keras.callbacks.History at 0x1639f301eb0>"
      ]
     },
     "execution_count": 34,
     "metadata": {},
     "output_type": "execute_result"
    }
   ],
   "source": [
    "#training the network\n",
    "classifier.fit(X_train, y_train,epochs=5, batch_size=7)"
   ]
  },
  {
   "cell_type": "code",
   "execution_count": 35,
   "id": "0d6f3b66-b077-4b29-9b57-566c4c9514ae",
   "metadata": {},
   "outputs": [
    {
     "name": "stdout",
     "output_type": "stream",
     "text": [
      "1/1 [==============================] - 0s 60ms/step\n"
     ]
    }
   ],
   "source": [
    "import numpy as np\n",
    "# Making predictions on the test set\n",
    "y_pred=classifier.predict(X_test) \n",
    "y_pred=np.argmax(y_pred, axis=1)"
   ]
  },
  {
   "cell_type": "code",
   "execution_count": 36,
   "id": "e74e8d81-f01a-4721-8edb-13010c30b6e2",
   "metadata": {},
   "outputs": [
    {
     "name": "stdout",
     "output_type": "stream",
     "text": [
      "Accuracy: 0.35714285714285715\n"
     ]
    }
   ],
   "source": [
    "from sklearn.metrics import accuracy_score\n",
    "\n",
    "# Calculating accuracy\n",
    "y_test=np.argmax(y_test, axis=1)\n",
    "accuracy = accuracy_score(y_test, y_pred)\n",
    "print(\"Accuracy:\", accuracy)"
   ]
  },
  {
   "cell_type": "code",
   "execution_count": 64,
   "id": "177b90a8-4cf7-4b98-be93-3dbf022ea4c9",
   "metadata": {},
   "outputs": [],
   "source": [
    "#test 10\n",
    "\n",
    "from sklearn.model_selection import train_test_split\n",
    "# Splitting data into training and testing sets\n",
    "X_train, X_test, y_train, y_test = train_test_split(X, dummy_y, test_size=0.2, random_state=3)"
   ]
  },
  {
   "cell_type": "code",
   "execution_count": 65,
   "id": "748b64cb-a556-42be-a75c-d9873cb1398f",
   "metadata": {},
   "outputs": [],
   "source": [
    "from keras.models import Model   \n",
    "from keras.layers import *\n",
    "\n",
    "#Defining the model\n",
    "inputs = Input(shape=(4,)) # input tensor\n",
    "hidden1 = Dense(units=8, activation='relu')(inputs) # layer 1\n",
    "hidden2 = Dense(units=8, activation='relu')(hidden1)  # layer 2\n",
    "outputs = Dense(units=3, activation='softmax')(hidden2)  # output layer\n",
    "\n",
    "# Initializing and training the classifier\n",
    "classifier = Model(inputs, outputs)\n",
    "\n",
    "#compiling the model\n",
    "classifier.compile(optimizer='SGD', loss='categorical_crossentropy', metrics=['accuracy'])"
   ]
  },
  {
   "cell_type": "code",
   "execution_count": 66,
   "id": "26fd24ea-6f25-4f51-a060-6350ed8fec12",
   "metadata": {},
   "outputs": [
    {
     "name": "stdout",
     "output_type": "stream",
     "text": [
      "Epoch 1/5\n",
      "8/8 [==============================] - 0s 984us/step - loss: 1.3234 - accuracy: 0.2857\n",
      "Epoch 2/5\n",
      "8/8 [==============================] - 0s 3ms/step - loss: 1.1065 - accuracy: 0.4107\n",
      "Epoch 3/5\n",
      "8/8 [==============================] - 0s 1ms/step - loss: 1.0055 - accuracy: 0.4286\n",
      "Epoch 4/5\n",
      "8/8 [==============================] - 0s 2ms/step - loss: 0.9388 - accuracy: 0.5179\n",
      "Epoch 5/5\n",
      "8/8 [==============================] - 0s 4ms/step - loss: 0.9140 - accuracy: 0.5536\n"
     ]
    },
    {
     "data": {
      "text/plain": [
       "<keras.callbacks.History at 0x163a21af040>"
      ]
     },
     "execution_count": 66,
     "metadata": {},
     "output_type": "execute_result"
    }
   ],
   "source": [
    "#training the network\n",
    "classifier.fit(X_train, y_train,epochs=5, batch_size=7)"
   ]
  },
  {
   "cell_type": "code",
   "execution_count": 67,
   "id": "7ca320d3-765d-47df-878d-701bab6efa46",
   "metadata": {},
   "outputs": [
    {
     "name": "stdout",
     "output_type": "stream",
     "text": [
      "1/1 [==============================] - 0s 58ms/step\n"
     ]
    }
   ],
   "source": [
    "import numpy as np\n",
    "# Making predictions on the test set\n",
    "y_pred=classifier.predict(X_test) \n",
    "y_pred=np.argmax(y_pred, axis=1)"
   ]
  },
  {
   "cell_type": "code",
   "execution_count": 68,
   "id": "6ab22ff3-d3c4-4994-8040-a16e69f6fea9",
   "metadata": {},
   "outputs": [
    {
     "name": "stdout",
     "output_type": "stream",
     "text": [
      "Accuracy: 0.5714285714285714\n"
     ]
    }
   ],
   "source": [
    "from sklearn.metrics import accuracy_score\n",
    "\n",
    "# Calculating accuracy\n",
    "y_test=np.argmax(y_test, axis=1)\n",
    "accuracy = accuracy_score(y_test, y_pred)\n",
    "print(\"Accuracy:\", accuracy)"
   ]
  },
  {
   "cell_type": "code",
   "execution_count": 78,
   "id": "2a755b6b-d42d-4861-b446-7aa62edd3928",
   "metadata": {},
   "outputs": [],
   "source": [
    "#test 11\n",
    "\n",
    "from sklearn.model_selection import train_test_split\n",
    "# Splitting data into training and testing sets\n",
    "X_train, X_test, y_train, y_test = train_test_split(X, dummy_y, test_size=0.2, random_state=3)"
   ]
  },
  {
   "cell_type": "code",
   "execution_count": 79,
   "id": "b52986f2-70d1-41a3-9465-d381683027f6",
   "metadata": {},
   "outputs": [],
   "source": [
    "from keras.models import Model   \n",
    "from keras.layers import *\n",
    "\n",
    "#Defining the model\n",
    "inputs = Input(shape=(4,)) # input tensor\n",
    "hidden1 = Dense(units=8, activation='relu')(inputs) # layer 1\n",
    "hidden2 = Dense(units=8, activation='relu')(hidden1)  # layer 2\n",
    "outputs = Dense(units=3, activation='softmax')(hidden2)  # output layer\n",
    "\n",
    "# Initializing and training the classifier\n",
    "classifier = Model(inputs, outputs)\n",
    "\n",
    "#compiling the model\n",
    "classifier.compile(optimizer='adam', loss='poisson', metrics=['accuracy'])"
   ]
  },
  {
   "cell_type": "code",
   "execution_count": 80,
   "id": "fe2441dd-1a3b-4dd2-85a4-f0a1d9032789",
   "metadata": {},
   "outputs": [
    {
     "name": "stdout",
     "output_type": "stream",
     "text": [
      "Epoch 1/5\n",
      "8/8 [==============================] - 0s 544us/step - loss: 1.8663 - accuracy: 0.2857\n",
      "Epoch 2/5\n",
      "8/8 [==============================] - 0s 2ms/step - loss: 1.5002 - accuracy: 0.2857\n",
      "Epoch 3/5\n",
      "8/8 [==============================] - 0s 2ms/step - loss: 1.1491 - accuracy: 0.3036\n",
      "Epoch 4/5\n",
      "8/8 [==============================] - 0s 2ms/step - loss: 0.9118 - accuracy: 0.4821\n",
      "Epoch 5/5\n",
      "8/8 [==============================] - 0s 2ms/step - loss: 0.8053 - accuracy: 0.6250\n"
     ]
    },
    {
     "data": {
      "text/plain": [
       "<keras.callbacks.History at 0x163a37f89a0>"
      ]
     },
     "execution_count": 80,
     "metadata": {},
     "output_type": "execute_result"
    }
   ],
   "source": [
    "#training the network\n",
    "classifier.fit(X_train, y_train,epochs=5, batch_size=7)"
   ]
  },
  {
   "cell_type": "code",
   "execution_count": 81,
   "id": "3b8a6cba-2632-47b8-bc00-cc866fbe2ffc",
   "metadata": {},
   "outputs": [
    {
     "name": "stdout",
     "output_type": "stream",
     "text": [
      "1/1 [==============================] - 0s 50ms/step\n"
     ]
    }
   ],
   "source": [
    "import numpy as np\n",
    "# Making predictions on the test set\n",
    "y_pred=classifier.predict(X_test) \n",
    "y_pred=np.argmax(y_pred, axis=1)"
   ]
  },
  {
   "cell_type": "code",
   "execution_count": 82,
   "id": "0e1bd76f-db1f-4ccd-833d-8e049e8fa781",
   "metadata": {},
   "outputs": [
    {
     "name": "stdout",
     "output_type": "stream",
     "text": [
      "Accuracy: 0.42857142857142855\n"
     ]
    }
   ],
   "source": [
    "from sklearn.metrics import accuracy_score\n",
    "\n",
    "# Calculating accuracy\n",
    "y_test=np.argmax(y_test, axis=1)\n",
    "accuracy = accuracy_score(y_test, y_pred)\n",
    "print(\"Accuracy:\", accuracy)"
   ]
  },
  {
   "cell_type": "code",
   "execution_count": 87,
   "id": "b07f58c7-e24e-494f-8e91-c8857478a600",
   "metadata": {},
   "outputs": [],
   "source": [
    "#test 12\n",
    "\n",
    "from sklearn.model_selection import train_test_split\n",
    "# Splitting data into training and testing sets\n",
    "X_train, X_test, y_train, y_test = train_test_split(X, dummy_y, test_size=0.2, random_state=3)"
   ]
  },
  {
   "cell_type": "code",
   "execution_count": 94,
   "id": "ac3d3d10-dedf-4531-9fad-ab0adb1b9d9b",
   "metadata": {},
   "outputs": [],
   "source": [
    "from keras.models import Model   \n",
    "from keras.layers import *\n",
    "\n",
    "#Defining the model\n",
    "inputs = Input(shape=(4,)) # input tensor\n",
    "hidden1 = Dense(units=8, activation='relu')(inputs) # layer 1\n",
    "hidden2 = Dense(units=8, activation='relu')(hidden1)  # layer 2\n",
    "outputs = Dense(units=3, activation='softmax')(hidden2)  # output layer\n",
    "\n",
    "# Initializing and training the classifier\n",
    "classifier = Model(inputs, outputs)\n",
    "\n",
    "#compiling the model\n",
    "classifier.compile(optimizer='adam', loss='kl_divergence', metrics=['accuracy'])"
   ]
  },
  {
   "cell_type": "code",
   "execution_count": 93,
   "id": "4d8beef5-7fd5-4977-8dad-0313b42b4ebb",
   "metadata": {},
   "outputs": [
    {
     "name": "stdout",
     "output_type": "stream",
     "text": [
      "Epoch 1/5\n",
      "8/8 [==============================] - 0s 3ms/step - loss: 6.4157 - accuracy: 0.2857\n",
      "Epoch 2/5\n",
      "8/8 [==============================] - 0s 2ms/step - loss: 5.6551 - accuracy: 0.2857\n",
      "Epoch 3/5\n",
      "8/8 [==============================] - 0s 2ms/step - loss: 4.7330 - accuracy: 0.2857\n",
      "Epoch 4/5\n",
      "8/8 [==============================] - 0s 2ms/step - loss: 3.8300 - accuracy: 0.2857\n",
      "Epoch 5/5\n",
      "8/8 [==============================] - 0s 2ms/step - loss: 3.1802 - accuracy: 0.4286\n"
     ]
    },
    {
     "data": {
      "text/plain": [
       "<keras.callbacks.History at 0x163a4e5d610>"
      ]
     },
     "execution_count": 93,
     "metadata": {},
     "output_type": "execute_result"
    }
   ],
   "source": [
    "#training the network\n",
    "classifier.fit(X_train, y_train,epochs=5, batch_size=7)"
   ]
  },
  {
   "cell_type": "code",
   "execution_count": 95,
   "id": "2a25fc2c-5699-4596-a581-537ff1b40d45",
   "metadata": {},
   "outputs": [
    {
     "name": "stdout",
     "output_type": "stream",
     "text": [
      "1/1 [==============================] - 0s 80ms/step\n"
     ]
    }
   ],
   "source": [
    "import numpy as np\n",
    "# Making predictions on the test set\n",
    "y_pred=classifier.predict(X_test) \n",
    "y_pred=np.argmax(y_pred, axis=1)"
   ]
  },
  {
   "cell_type": "code",
   "execution_count": 96,
   "id": "3e74269f-e710-41ef-82cb-c4d3a9f3c368",
   "metadata": {},
   "outputs": [
    {
     "name": "stdout",
     "output_type": "stream",
     "text": [
      "Accuracy: 0.2857142857142857\n"
     ]
    }
   ],
   "source": [
    "from sklearn.metrics import accuracy_score\n",
    "\n",
    "# Calculating accuracy\n",
    "y_test=np.argmax(y_test, axis=1)\n",
    "accuracy = accuracy_score(y_test, y_pred)\n",
    "print(\"Accuracy:\", accuracy)"
   ]
  },
  {
   "cell_type": "code",
   "execution_count": 21,
   "id": "a566de5d-2f52-4324-9567-d91fbcecc34a",
   "metadata": {},
   "outputs": [],
   "source": [
    "#test 8\n",
    "\n",
    "from sklearn.model_selection import train_test_split\n",
    "# Splitting data into training and testing sets\n",
    "X_train, X_test, y_train, y_test = train_test_split(X, dummy_y, test_size=0.2, random_state=3)"
   ]
  },
  {
   "cell_type": "code",
   "execution_count": 22,
   "id": "087b4d95-30b9-4f05-b4aa-46af0efd83f7",
   "metadata": {},
   "outputs": [],
   "source": [
    "from keras.models import Model   \n",
    "from keras.layers import *\n",
    "\n",
    "#Defining the model\n",
    "inputs = Input(shape=(4,)) # input tensor\n",
    "hidden1 = Dense(units=8, activation='relu')(inputs) # layer 1\n",
    "hidden2 = Dense(units=8, activation='relu')(hidden1)\n",
    "hidden3 = Dense(units=8, activation='relu')(hidden2)\n",
    "hidden4 = Dense(units=8, activation='relu')(hidden3)# layer 2\n",
    "outputs = Dense(units=3, activation='softmax')(hidden4)  # output layer\n",
    "\n",
    "# Initializing and training the classifier\n",
    "classifier = Model(inputs, outputs)\n",
    "\n",
    "#compiling the model\n",
    "classifier.compile(optimizer='SGD', loss='categorical_crossentropy', metrics=['accuracy'])"
   ]
  },
  {
   "cell_type": "code",
   "execution_count": 23,
   "id": "b2f40b9d-ae67-4344-9f6b-8169e3e098b3",
   "metadata": {},
   "outputs": [
    {
     "name": "stdout",
     "output_type": "stream",
     "text": [
      "Epoch 1/10\n",
      "8/8 [==============================] - 1s 4ms/step - loss: 1.5722 - accuracy: 0.3929\n",
      "Epoch 2/10\n",
      "8/8 [==============================] - 0s 3ms/step - loss: 1.1706 - accuracy: 0.3214\n",
      "Epoch 3/10\n",
      "8/8 [==============================] - 0s 3ms/step - loss: 1.1580 - accuracy: 0.3036\n",
      "Epoch 4/10\n",
      "8/8 [==============================] - 0s 3ms/step - loss: 1.1107 - accuracy: 0.4286\n",
      "Epoch 5/10\n",
      "8/8 [==============================] - 0s 2ms/step - loss: 1.0862 - accuracy: 0.4821\n",
      "Epoch 6/10\n",
      "8/8 [==============================] - 0s 4ms/step - loss: 1.1044 - accuracy: 0.4286\n",
      "Epoch 7/10\n",
      "8/8 [==============================] - 0s 3ms/step - loss: 1.0640 - accuracy: 0.4821\n",
      "Epoch 8/10\n",
      "8/8 [==============================] - 0s 4ms/step - loss: 1.0947 - accuracy: 0.4643\n",
      "Epoch 9/10\n",
      "8/8 [==============================] - 0s 3ms/step - loss: 1.0661 - accuracy: 0.3214\n",
      "Epoch 10/10\n",
      "8/8 [==============================] - 0s 4ms/step - loss: 1.0405 - accuracy: 0.5893\n"
     ]
    },
    {
     "data": {
      "text/plain": [
       "<keras.callbacks.History at 0x1a158df9af0>"
      ]
     },
     "execution_count": 23,
     "metadata": {},
     "output_type": "execute_result"
    }
   ],
   "source": [
    "#training the network\n",
    "classifier.fit(X_train, y_train,epochs=10, batch_size=7)"
   ]
  },
  {
   "cell_type": "code",
   "execution_count": 24,
   "id": "6472aff2-5849-4213-bbd5-92682770d8a6",
   "metadata": {},
   "outputs": [
    {
     "name": "stdout",
     "output_type": "stream",
     "text": [
      "1/1 [==============================] - 0s 173ms/step\n"
     ]
    }
   ],
   "source": [
    "import numpy as np\n",
    "# Making predictions on the test set\n",
    "y_pred=classifier.predict(X_test) \n",
    "y_pred=np.argmax(y_pred, axis=1)"
   ]
  },
  {
   "cell_type": "code",
   "execution_count": 25,
   "id": "ec76f2e6-a583-4696-b843-32bcbdd12e60",
   "metadata": {},
   "outputs": [
    {
     "name": "stdout",
     "output_type": "stream",
     "text": [
      "Accuracy: 0.42857142857142855\n"
     ]
    }
   ],
   "source": [
    "from sklearn.metrics import accuracy_score\n",
    "\n",
    "# Calculating accuracy\n",
    "y_test=np.argmax(y_test, axis=1)\n",
    "accuracy = accuracy_score(y_test, y_pred)\n",
    "print(\"Accuracy:\", accuracy)"
   ]
  },
  {
   "cell_type": "code",
   "execution_count": null,
   "id": "0081bfd6-53b1-46fe-8679-2b0af3e0b776",
   "metadata": {},
   "outputs": [],
   "source": []
  }
 ],
 "metadata": {
  "kernelspec": {
   "display_name": "Python 3 (ipykernel)",
   "language": "python",
   "name": "python3"
  },
  "language_info": {
   "codemirror_mode": {
    "name": "ipython",
    "version": 3
   },
   "file_extension": ".py",
   "mimetype": "text/x-python",
   "name": "python",
   "nbconvert_exporter": "python",
   "pygments_lexer": "ipython3",
   "version": "3.9.18"
  }
 },
 "nbformat": 4,
 "nbformat_minor": 5
}
